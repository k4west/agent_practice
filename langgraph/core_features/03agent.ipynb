{
 "cells": [
  {
   "cell_type": "code",
   "execution_count": 1,
   "metadata": {},
   "outputs": [
    {
     "data": {
      "text/plain": [
       "<langgraph.graph.state.StateGraph at 0x1da68a855d0>"
      ]
     },
     "execution_count": 1,
     "metadata": {},
     "output_type": "execute_result"
    }
   ],
   "source": [
    "import json\n",
    "from typing import Annotated, Literal\n",
    "from typing_extensions import TypedDict\n",
    "from langgraph.graph import StateGraph, START, END\n",
    "from langgraph.graph.message import add_messages\n",
    "from langchain_openai import ChatOpenAI\n",
    "from langchain_core.messages import ToolMessage\n",
    "# from langchain_teddynote.tools.tavily import TavilySearch\n",
    "from langchain_community.tools import TavilySearchResults\n",
    "from IPython.display import Image, display\n",
    "from dotenv import load_dotenv\n",
    "\n",
    "\n",
    "load_dotenv()\n",
    "llm = ChatOpenAI(model='gpt-4o-mini', temperature=0)\n",
    "tool = TavilySearchResults(max_results=3, include_raw_content=True) # TavilySearch(max_results=3)\n",
    "tools = [tool]\n",
    "llm_with_tools = llm.bind_tools(tools)\n",
    "\n",
    "\n",
    "class State(TypedDict):\n",
    "    messages: Annotated[list, add_messages]\n",
    "\n",
    "\n",
    "def chatbot(state: State):\n",
    "    answer = llm_with_tools.invoke(state[\"messages\"])\n",
    "    return {\"messages\": [answer]}\n",
    "\n",
    "\n",
    "graph_builder = StateGraph(State)\n",
    "graph_builder.add_node(\"chatbot\", chatbot)"
   ]
  },
  {
   "cell_type": "code",
   "execution_count": 2,
   "metadata": {},
   "outputs": [
    {
     "data": {
      "text/plain": [
       "[{'url': 'https://kprofiles.com/bts-bangtan-boys-members-profile/',\n",
       "  'content': \"\\u200eBTS (Bangtan Boys) Members Profile: BTS Ideal Type, BTS Facts BTS (방탄소년단) is a South Korean boy group that consists of 7 members: RM, Jin, Suga, J-Hope, Jimin, V and Jung Kook.They are under Big Hit Music (part of HYBE Labels). BTS debuted on June 13, 2013 with the lead single 'No More Dream' on album '2 Cool 4 Skool'.On June 15, 2022 BigHit Music released an announcement\"},\n",
       " {'url': 'https://bts.ibighit.com/index.html',\n",
       "  'content': 'The official website for BTS, the global K-pop superstars. Find their latest news, music, videos, and more.'},\n",
       " {'url': 'https://en.wikipedia.org/wiki/BTS',\n",
       "  'content': 'At the 34th Golden Disc Awards, BTS became the first artists in history to win grand prizes in both the physical and digital categories in a single year.[186] Map of the Soul: Persona was named the second best-selling physical album of 2019 in the US by Nielsen Music behind Taylor Swift\\'s Lover and was ranked sixth overall on the chart of Top\\xa010 Albums (Total Sales) in the US.[187] BTS wrapped 2019 as the fourth-highest-ranked group on Billboard\\'s Top Billboard 200 Artists–Duo/Group ranking, behind Queen, Imagine Dragons and the Beatles.[188] Map of the Soul: Persona was named as the third best-selling album of 2019 by the International Federation of the Phonographic Industry (IFPI), making BTS the first Korean artist to be listed on the Global Top\\xa010 Album Chart in consecutive years.[189][190][191]\\n The group won the Special International Music Award at the 62nd Japan Record Awards.[238] Kim, in his book on the influence of Korean popular culture, suggested that 2020, the worst year in many people\\'s lives, was a noteworthy one for Korean culture, with Parasite winning the Academy Award for Best Picture and BTS posting three number-one hits on the Billboard Global 200.[239]\\n2021–present\\nOn March 4, 2021, the IFPI named BTS its Global Recording Artist of the Year for 2020, the first Asian and first non-English speaking act to top the ranking.[241] BTS occupied three spots in the Global Album Sales Chart of 2020, with Map of the Soul: 7 at number one, Be (Deluxe Edition) at number two, and Map of the Soul: 7–The Journey at number eight.[242] The EP\\'s release was followed by a performance on Saturday Night Live, the first K-pop act to appear there.[154] Map of the Soul: Persona became the first Korean-language album to reach the number one position in both the UK and Australia,[155][156] and the group\\'s third album to top the Billboard\\xa0200 in less than a year.[157] Map of the Soul: Persona became the best-selling album ever in South Korea in terms of physical copies sold, with more than 3.2\\xa0million sales in less than a month.[158][159] \"Boy with Luv\" debuted at number eight on the Billboard Hot 100 in April 2019, the highest placement ever for a K-pop song.[160]\\nFollowing their two wins at the 26th Billboard Music Awards in May, including for Top Duo/Group,[161] BTS embarked on their world tour stadium extension, Love Yourself: Speak Yourself.[162] In 2022, Youna Kim described BTS as having spearheaded the Korean Wave, representing the global expansion of Korean culture as effectively as Psy did in the previous decade and with the strength of influence that the Academy Award-winning South Korean film Parasite had in 2020.[345] South Korea\\'s central bank, the Bank of Korea, found in 2021 that BTS, including a \"ripple effect\" that included increased tourism to South Korea; increased interest in Korean culture, movies, and study of the Korean language; and added approximately US$5\\xa0billion per year to South Korea\\'s economy, a growth of about 0.5 percent.[346] A 2018 study showed that, on average, 800,000\\xa0foreigners per year had visited South Korea over the past four years for BTS-related reasons.[347]\\nWriters identified BTS as leaders even among other highly influential K-pop groups such as Girls\\' Generation, Super Junior, Exo, Twice, and Blackpink[348] and note that BTS\\'s success shows the importance of a strong, active fan base in the age of social media, where fan campaigning can be as important as musical quality to a song\\'s success.[349] According to Gaon Chart, Map of the Soul: 7 sold over 4.1\\xa0million copies in nine days after its release, surpassing Map of the Soul: Persona to become the best-selling album in South Korean history and the first album to be certified quadruple million.[202] The album debuted atop the US Billboard 200, making BTS the fastest group to earn four number one albums since the Beatles in 1966–1968.[203] \"On\" debuted at number four on the Billboard Hot 100, giving BTS its first top-five hit, and the most Hot 100 top-10 entries of any Korean act, with three.[204] BTS planned to support the Map of the Soul album series with a concert series, Map of the Soul Tour, beginning in April,[205] but this was indefinitely postponed due to the COVID-19 pandemic.[206]\\n'}]"
      ]
     },
     "execution_count": 2,
     "metadata": {},
     "output_type": "execute_result"
    }
   ],
   "source": [
    "# TavilySearchResults\n",
    "tool.invoke(\"bts\")"
   ]
  },
  {
   "cell_type": "code",
   "execution_count": 3,
   "metadata": {},
   "outputs": [
    {
     "data": {
      "text/plain": [
       "<langgraph.graph.state.StateGraph at 0x1da68a855d0>"
      ]
     },
     "execution_count": 3,
     "metadata": {},
     "output_type": "execute_result"
    }
   ],
   "source": [
    "class BasicToolNode:\n",
    "    \"\"\"Run tools requested in the last AIMessage node\"\"\"\n",
    "    \n",
    "    def __init__(self, tools:list) -> None:\n",
    "        self.tools_list = {tool.name: tool for tool in tools}\n",
    "    \n",
    "    def __call__(self, inputs: dict):\n",
    "        if messages := inputs.get(\"messages\", []):\n",
    "            message = messages[-1]\n",
    "        else:\n",
    "            raise ValueError(\"No message found in input\")\n",
    "\n",
    "        outputs = []\n",
    "        for tool_call in message.tool_calls:\n",
    "            ########################################################\n",
    "            # print(tool_call)\n",
    "            # {\n",
    "            #     'name': 'tavily_search_results_json', \n",
    "            #     'args': {'query': 'Kpop news and updates'}, \n",
    "            #     'id': 'call_EX2ImJMJtyFSC3Fwwv5s7uia', \n",
    "            #     'type': 'tool_call'\n",
    "            # }\n",
    "            ########################################################\n",
    "            tool_result = self.tools_list[tool_call[\"name\"]].invoke(tool_call[\"args\"])\n",
    "            outputs.append(\n",
    "                ToolMessage(\n",
    "                    content=json.dumps(tool_result, ensure_ascii=False),\n",
    "                    name=tool_call[\"name\"],\n",
    "                    tool_call_id=tool_call[\"id\"]\n",
    "                )\n",
    "            )\n",
    "        \n",
    "        return {\"messages\": outputs}\n",
    "            \n",
    "tool_node = BasicToolNode(tools=tools)\n",
    "graph_builder.add_node(\"tools\", tool_node)"
   ]
  },
  {
   "cell_type": "code",
   "execution_count": 4,
   "metadata": {},
   "outputs": [],
   "source": [
    "def route_tools(state: State) -> Literal[\"tools\", \"END\"]:\n",
    "    if messages := state.get(\"messages\", []):\n",
    "        ai_message = messages[-1]\n",
    "    else:\n",
    "        raise ValueError(f\"No messages found in input state to tool_edge: {state}\")\n",
    "    \n",
    "    if hasattr(ai_message, \"tool_calls\") and len(ai_message.tool_calls) > 0:\n",
    "        return \"tools\"\n",
    "    return \"END\"\n",
    "\n",
    "graph_builder.add_conditional_edges(\n",
    "    source=\"chatbot\",\n",
    "    path=route_tools,\n",
    "    path_map={\n",
    "        \"tools\": \"tools\",\n",
    "        \"END\": END\n",
    "    }\n",
    ")\n",
    "graph_builder.add_edge(START, \"chatbot\")\n",
    "graph_builder.add_edge(\"tools\", \"chatbot\")\n",
    "graph = graph_builder.compile()\n"
   ]
  },
  {
   "cell_type": "code",
   "execution_count": 5,
   "metadata": {},
   "outputs": [
    {
     "data": {
      "image/png": "[encoded data removed]",
      "text/plain": [
       "<IPython.core.display.Image object>"
      ]
     },
     "metadata": {},
     "output_type": "display_data"
    }
   ],
   "source": [
    "display(Image(graph.get_graph(xray=True).draw_mermaid_png()))"
   ]
  },
  {
   "cell_type": "code",
   "execution_count": 9,
   "metadata": {},
   "outputs": [
    {
     "name": "stdout",
     "output_type": "stream",
     "text": [
      "STEP: chatbot\n",
      "content='' additional_kwargs={'tool_calls': [{'id': 'call_AUuruD3N8mpKuALPVmSVK3mE', 'function': {'arguments': '{\"query\":\"Kpop news and updates\"}', 'name': 'tavily_search_results_json'}, 'type': 'function'}], 'refusal': None} response_metadata={'token_usage': {'completion_tokens': 23, 'prompt_tokens': 81, 'total_tokens': 104, 'completion_tokens_details': {'accepted_prediction_tokens': 0, 'audio_tokens': 0, 'reasoning_tokens': 0, 'rejected_prediction_tokens': 0}, 'prompt_tokens_details': {'audio_tokens': 0, 'cached_tokens': 0}}, 'model_name': 'gpt-4o-mini-2024-07-18', 'system_fingerprint': 'fp_72ed7ab54c', 'finish_reason': 'tool_calls', 'logprobs': None} id='run-b6f45352-1bcf-4461-8a09-276d8c454c9b-0' tool_calls=[{'name': 'tavily_search_results_json', 'args': {'query': 'Kpop news and updates'}, 'id': 'call_AUuruD3N8mpKuALPVmSVK3mE', 'type': 'tool_call'}] usage_metadata={'input_tokens': 81, 'output_tokens': 23, 'total_tokens': 104, 'input_token_details': {'audio': 0, 'cache_read': 0}, 'output_token_details': {'audio': 0, 'reasoning': 0}}\n",
      "\n",
      "\n",
      "STEP: tools\n",
      "content='[{\"url\": \"https://meaww.com/entertainment/k-pop\", \"content\": \"K-POP NEWS Tired Wonyoung has IVE fans worried about her \\'too severe\\' schedule amid constant Paris trips After the K-pop idol was seen trying to catch her breath during a performance, fans are worried Sep 30, 2022 K-POP NEWS APAN Star Awards 2022: Winners include Park Ji Hu, Yoon Chan Yang while KONNECT artists wow viewers\"}, {\"url\": \"https://www.digitalmusicnews.com/category/kpop-news/\", \"content\": \"The latest Kpop news from the biggest artists and companies: BTS, Big Hit Entertainment, Red Velvet, SM Entertainment, Blackpink, more.\"}, {\"url\": \"https://www.koreaboo.com/news/\", \"content\": \"Latest updates on BTS, EXO, TWICE and every other K-Pop group. Get alerts on breaking K-Pop news and viral buzz on K-Pop idols.\"}]' name='tavily_search_results_json' id='0a170a64-0c1d-4856-8a7f-62265623d9e8' tool_call_id='call_AUuruD3N8mpKuALPVmSVK3mE'\n",
      "\n",
      "\n",
      "STEP: chatbot\n",
      "content=\"Here are some recent updates and news in the K-pop world:\\n\\n1. **IVE's Wonyoung**: Fans are concerned about Wonyoung's demanding schedule, especially after she was seen struggling to catch her breath during a performance. [Read more here](https://meaww.com/entertainment/k-pop).\\n\\n2. **APAN Star Awards 2022**: The winners included Park Ji Hu and Yoon Chan Yang, with performances from KONNECT artists that wowed the audience. [More details available](https://meaww.com/entertainment/k-pop).\\n\\n3. **Latest K-pop News**: For updates on major artists like BTS, Blackpink, and Red Velvet, you can check out [Digital Music News](https://www.digitalmusicnews.com/category/kpop-news/) and [Koreaboo](https://www.koreaboo.com/news/), which provide alerts on breaking news and viral buzz in the K-pop scene.\\n\\nFeel free to explore these links for more in-depth information!\" additional_kwargs={'refusal': None} response_metadata={'token_usage': {'completion_tokens': 210, 'prompt_tokens': 320, 'total_tokens': 530, 'completion_tokens_details': {'accepted_prediction_tokens': 0, 'audio_tokens': 0, 'reasoning_tokens': 0, 'rejected_prediction_tokens': 0}, 'prompt_tokens_details': {'audio_tokens': 0, 'cached_tokens': 0}}, 'model_name': 'gpt-4o-mini-2024-07-18', 'system_fingerprint': 'fp_72ed7ab54c', 'finish_reason': 'stop', 'logprobs': None} id='run-ddafe1dd-15a2-465a-8bed-dce54c74e305-0' usage_metadata={'input_tokens': 320, 'output_tokens': 210, 'total_tokens': 530, 'input_token_details': {'audio': 0, 'cache_read': 0}, 'output_token_details': {'audio': 0, 'reasoning': 0}}\n",
      "\n",
      "\n"
     ]
    }
   ],
   "source": [
    "query = \"kpop\"\n",
    "\n",
    "for event in graph.stream({\"messages\": [(\"user\", query)]}):\n",
    "    for key, value in event.items():\n",
    "        print(f\"STEP: {key}\\n{value['messages'][-1]}\\n\\n\")"
   ]
  },
  {
   "cell_type": "code",
   "execution_count": 7,
   "metadata": {},
   "outputs": [
    {
     "data": {
      "text/plain": [
       "{'messages': [HumanMessage(content='kpop', additional_kwargs={}, response_metadata={}, id='6f7cc994-a706-42f9-a223-0edd12db82b0'),\n",
       "  AIMessage(content='', additional_kwargs={'tool_calls': [{'id': 'call_nCPKyNItTvBQmgmgB2uyHx69', 'function': {'arguments': '{\"query\":\"kpop\"}', 'name': 'tavily_search_results_json'}, 'type': 'function'}], 'refusal': None}, response_metadata={'token_usage': {'completion_tokens': 20, 'prompt_tokens': 81, 'total_tokens': 101, 'completion_tokens_details': {'accepted_prediction_tokens': 0, 'audio_tokens': 0, 'reasoning_tokens': 0, 'rejected_prediction_tokens': 0}, 'prompt_tokens_details': {'audio_tokens': 0, 'cached_tokens': 0}}, 'model_name': 'gpt-4o-mini-2024-07-18', 'system_fingerprint': 'fp_72ed7ab54c', 'finish_reason': 'tool_calls', 'logprobs': None}, id='run-5330f5af-1688-496f-9c90-fdf846de4b31-0', tool_calls=[{'name': 'tavily_search_results_json', 'args': {'query': 'kpop'}, 'id': 'call_nCPKyNItTvBQmgmgB2uyHx69', 'type': 'tool_call'}], usage_metadata={'input_tokens': 81, 'output_tokens': 20, 'total_tokens': 101, 'input_token_details': {'audio': 0, 'cache_read': 0}, 'output_token_details': {'audio': 0, 'reasoning': 0}}),\n",
       "  ToolMessage(content='[{\"url\": \"https://www.britannica.com/art/K-pop\", \"content\": \"K-pop | Bands, History, Industry, & Global Impact | Britannica Ask the Chatbot Games & Quizzes History & Society Science & Tech Biographies Animals & Nature Geography & Travel Arts & Culture Money Videos BTS One of the world\\'s most popular K-pop groups, BTS, performing onstage at the American Music Awards, 2021. K-pop, abbreviated colloquial term for popular music from South Korea. Owing to the many influences that can be present in a group or solo artist’s songs, rather than being defined by different musical genres, K-pop is loosely delineated by “generations,” which refer to distinct periods in its development. Amid K-pop’s growing popularity, girl groups like Twice and Blackpink have also become prominent in the global music scene.\"}, {\"url\": \"https://www.90daykorean.com/what-is-kpop/\", \"content\": \"K-pop started developing in the 1950s and became what it is today in the 1990s; It includes many styles like pop, rock, hip-hop, and electronic music, influenced heavily by American pop.; K-pop is known for its energetic dance routines, catchy songs, and eye-catching music videos.; Artists like BTS and PSY have made K-pop popular across the globe, showing that music can bridge cultural\"}, {\"url\": \"https://en.wikipedia.org/wiki/K-pop\", \"content\": \"As of 2019, Korean popular music is ranked at number six among the top ten music markets worldwide according to the International Federation of the Phonographic Industry\\'s \\\\\"Global Music Report 2019\\\\\", with BTS and Blackpink cited as artists leading the market growth.[11] In 2020, K-pop experienced a record-breaking year when it experienced a 44.8% growth and positioned itself as the fastest-growing major market of the year.[12]\\\\nEtymology\\\\nThe first known use of the term \\\\\"K-pop\\\\\" occurred on Billboard in the October 9, 1999, edition at the end of an article titled \\\\\"S. Korea To Allow Some Japanese Live Acts\\\\\" by Cho Hyun-jin, then a Korea correspondent for the magazine, which used it as a broad term for South Korean pop music. According to Nakasone, her focus is to make dance routines that are flattering for the dancers but also complementary to the music.[52] Her ideas are submitted to the entertainment company as video recordings done by professional dancers.[52] Nakasone mentions that the company and the K-pop artists themselves have input on a song\\'s choreography.[52] Choreographer May J. Lee gives another perspective, telling that her choreography often starts out as expressing the feeling or the meaning of the lyrics.[53] What starts out as small movements turns into a full dance that is better able to portray the message of the song.[53]\\\\nFashion\\\\nThe emergence of Seo Taiji and Boys in 1992 paved the way for the development of contemporary K-pop groups.[54] After a slump in early idol music, from 2003, TVXQ and BoA started a new generation of K-pop idols that broke the music genre into the neighboring Japanese market and continue to popularize K-pop internationally today.[9][10] With the advent of online social networking services and South Korean TV shows, the current spread of K-pop and South Korean entertainment, known as the Korean Wave, is seen not only in East Asia and Southeast Asia, but also in Pakistan, Bangladesh, India, Latin America, North Africa, Southern Africa and East Africa, the Middle East, and throughout the Western world, gaining an international audience.\\\\n \\\\\"[67]\\\\nGovernment support\\\\nThe South Korean government has acknowledged benefits to the country\\'s export sector as a result of the Korean Wave (it was estimated in 2011 that a US$100 increase in the export of cultural products resulted in a US$412 increase in exports of other consumer goods including food, clothes, cosmetics and IT products[69]) and thus have subsidized certain endeavours.[70] Government initiatives to expand the popularity of K-pop are mostly undertaken by the Ministry of Culture, Sports and Tourism, which is responsible for the worldwide establishment of Korean Cultural Centers. However, lately, Korean entertainment companies have allowed their Chinese K-pop idols more freedom in pursuing solo work in China.[257] Got7\\'s Jackson Wang, for example, has released several of his own songs in China and, in 2017, reached number one on Chinese music charts.[260]\\\\nAdditionally, the rise of K-pop has led to an increase in the number of Chinese tourists in South Korea—3.8 million more Chinese toured South Korea in 2016 than 2015 according to the Union of International Associations.[261] K-pop has also made China\\'s youth find South Korean culture \\\\\"cool\\\\\",[262] thus helping to facilitate greater understanding between Korea and China.[263]\\\\nDespite North Korea\\'s traditionally strict isolationism, K-pop has managed to reach a North Korean audience.\"}]', name='tavily_search_results_json', id='3abbc5c3-c0f9-4ddb-a87a-7e425dc56940', tool_call_id='call_nCPKyNItTvBQmgmgB2uyHx69'),\n",
       "  AIMessage(content=\"K-pop, short for Korean pop music, is a genre that originated in South Korea and has gained immense popularity worldwide. Here are some key points about K-pop:\\n\\n1. **History and Development**: K-pop began to take shape in the 1950s but became more defined in the 1990s. It incorporates various musical styles, including pop, rock, hip-hop, and electronic music, heavily influenced by American pop culture.\\n\\n2. **Characteristics**: K-pop is known for its energetic dance routines, catchy melodies, and visually striking music videos. The genre often features elaborate choreography that complements the music.\\n\\n3. **Global Impact**: Artists like BTS and Blackpink have played significant roles in popularizing K-pop globally. The genre has seen substantial growth, with K-pop being ranked as one of the top music markets worldwide.\\n\\n4. **Cultural Influence**: The rise of K-pop has contributed to the Korean Wave (Hallyu), which has spread South Korean culture across various regions, including East Asia, Southeast Asia, and even Western countries.\\n\\n5. **Government Support**: The South Korean government has recognized the economic benefits of K-pop and has supported its global expansion through cultural initiatives.\\n\\nFor more detailed information, you can check out the following resources:\\n- [Britannica on K-pop](https://www.britannica.com/art/K-pop)\\n- [90 Day Korean's Overview of K-pop](https://www.90daykorean.com/what-is-kpop/)\\n- [Wikipedia Entry on K-pop](https://en.wikipedia.org/wiki/K-pop)\", additional_kwargs={'refusal': None}, response_metadata={'token_usage': {'completion_tokens': 324, 'prompt_tokens': 1145, 'total_tokens': 1469, 'completion_tokens_details': {'accepted_prediction_tokens': 0, 'audio_tokens': 0, 'reasoning_tokens': 0, 'rejected_prediction_tokens': 0}, 'prompt_tokens_details': {'audio_tokens': 0, 'cached_tokens': 0}}, 'model_name': 'gpt-4o-mini-2024-07-18', 'system_fingerprint': 'fp_72ed7ab54c', 'finish_reason': 'stop', 'logprobs': None}, id='run-8e482345-3d71-447d-93b4-e63dde24e638-0', usage_metadata={'input_tokens': 1145, 'output_tokens': 324, 'total_tokens': 1469, 'input_token_details': {'audio': 0, 'cache_read': 0}, 'output_token_details': {'audio': 0, 'reasoning': 0}})]}"
      ]
     },
     "execution_count": 7,
     "metadata": {},
     "output_type": "execute_result"
    }
   ],
   "source": [
    "result = graph.invoke({\"messages\": [(\"user\", query)]})\n",
    "result"
   ]
  },
  {
   "cell_type": "code",
   "execution_count": 8,
   "metadata": {},
   "outputs": [
    {
     "data": {
      "text/plain": [
       "{'messages': [HumanMessage(content='kpop', additional_kwargs={}, response_metadata={}, id='67e62b8c-15b0-419f-9bbb-92066215319f'),\n",
       "  AIMessage(content='', additional_kwargs={'tool_calls': [{'id': 'call_M6jnUNaEuGdPoKeCBTHBbX5C', 'function': {'arguments': '{\"query\":\"Kpop news and updates\"}', 'name': 'tavily_search_results_json'}, 'type': 'function'}], 'refusal': None}, response_metadata={'token_usage': {'completion_tokens': 23, 'prompt_tokens': 81, 'total_tokens': 104, 'completion_tokens_details': {'accepted_prediction_tokens': 0, 'audio_tokens': 0, 'reasoning_tokens': 0, 'rejected_prediction_tokens': 0}, 'prompt_tokens_details': {'audio_tokens': 0, 'cached_tokens': 0}}, 'model_name': 'gpt-4o-mini-2024-07-18', 'system_fingerprint': 'fp_72ed7ab54c', 'finish_reason': 'tool_calls', 'logprobs': None}, id='run-53fdf5a5-1808-4954-81b6-d00178009872-0', tool_calls=[{'name': 'tavily_search_results_json', 'args': {'query': 'Kpop news and updates'}, 'id': 'call_M6jnUNaEuGdPoKeCBTHBbX5C', 'type': 'tool_call'}], usage_metadata={'input_tokens': 81, 'output_tokens': 23, 'total_tokens': 104, 'input_token_details': {'audio': 0, 'cache_read': 0}, 'output_token_details': {'audio': 0, 'reasoning': 0}}),\n",
       "  ToolMessage(content='\\n[\\n    {\\n        \"url\": \"https://meaww.com/entertainment/k-pop\", \\n        \"content\": \"K-POP NEWS Tired Wonyoung has IVE fans worried about her \\'too severe\\' schedule amid constant Paris trips After the K-pop idol was seen trying to catch her breath during a performance, fans are worried Sep 30, 2022 K-POP NEWS APAN Star Awards 2022: Winners include Park Ji Hu, Yoon Chan Yang while KONNECT artists wow viewers\"\\n    }, \\n    {\\n        \"url\": \"https://www.koreaboo.com/news/\", \\n        \"content\": \"Latest updates on BTS, EXO, TWICE and every other K-Pop group. Get alerts on breaking K-Pop news and viral buzz on K-Pop idols.\"\\n    }, \\n    {\\n        \"url\": \"https://hallyubeat.com/\", \\n        \"content\": \"K-POP NEWS. PROFILES. LIFESTYLE | FASHION | BEAUTY. Search. TOP NEWS. K-DRAMA & MOVIES. The truth is Unmasked on new Disney+ Hotstar series. Hallyu Unnie-15/01/2025. MUSIC. SM Faces Backlash for Allegedly Sabotaging RED VELVET Again. Administrator-15/01/2025. FEATURES. ADOR Seeks Injunction to Block NEWJEANS From Solo Ad Deals\"\\n    }\\n]\\n', name='tavily_search_results_json', id='f4b04aaf-88f5-4cab-81c3-3445eadac812', tool_call_id='call_M6jnUNaEuGdPoKeCBTHBbX5C'),\n",
       "  AIMessage(content=\"\\nHere are some recent updates and news related to K-pop:\\n\\n1. **IVE's Wonyoung**: Fans are concerned about Wonyoung's intense schedule after she was seen struggling to catch her breath during a performance. This has raised worries among her supporters regarding her well-being. [Read more here](https://meaww.com/entertainment/k-pop).\\n\\n2. **K-Pop News Updates**: For the latest updates on popular groups like BTS, EXO, and TWICE, you can check out Korea Boo, which provides alerts on breaking news and viral buzz surrounding K-pop idols. [Visit Korea Boo](https://www.koreaboo.com/news/).\\n\\n3. **SM Entertainment Controversy**: SM Entertainment is facing backlash for allegedly sabotaging the group Red Velvet. This has sparked discussions among fans and the K-pop community. [More details here](https://hallyubeat.com/).\\n\\nFeel free to explore these links for more in-depth information!\\n\", additional_kwargs={'refusal': None}, response_metadata={'token_usage': {'completion_tokens': 202, 'prompt_tokens': 390, 'total_tokens': 592, 'completion_tokens_details': {'accepted_prediction_tokens': 0, 'audio_tokens': 0, 'reasoning_tokens': 0, 'rejected_prediction_tokens': 0}, 'prompt_tokens_details': {'audio_tokens': 0, 'cached_tokens': 0}}, 'model_name': 'gpt-4o-mini-2024-07-18', 'system_fingerprint': 'fp_72ed7ab54c', 'finish_reason': 'stop', 'logprobs': None}, id='run-602f6397-9093-4127-891d-2db992f50fa1-0', usage_metadata={'input_tokens': 390, 'output_tokens': 202, 'total_tokens': 592, 'input_token_details': {'audio': 0, 'cache_read': 0}, 'output_token_details': {'audio': 0, 'reasoning': 0}})]}"
      ]
     },
     "execution_count": 8,
     "metadata": {},
     "output_type": "execute_result"
    }
   ],
   "source": [
    "from langchain_core.messages import AIMessage, HumanMessage\n",
    "\n",
    "{\n",
    "    'messages': [\n",
    "        HumanMessage(\n",
    "            content='kpop', \n",
    "            additional_kwargs={}, \n",
    "            response_metadata={}, \n",
    "            id='67e62b8c-15b0-419f-9bbb-92066215319f'\n",
    "        ),\n",
    "        AIMessage(\n",
    "            content='', \n",
    "            additional_kwargs={\n",
    "                'tool_calls': [\n",
    "                    {\n",
    "                        'id': 'call_M6jnUNaEuGdPoKeCBTHBbX5C', \n",
    "                        'function': {\n",
    "                            'arguments': '{\"query\":\"Kpop news and updates\"}', \n",
    "                            'name': 'tavily_search_results_json'\n",
    "                        }, \n",
    "                        'type': 'function'\n",
    "                    }\n",
    "                ], \n",
    "                'refusal': None\n",
    "            }, \n",
    "            response_metadata={\n",
    "                'token_usage': {'completion_tokens': 23, 'prompt_tokens': 81, 'total_tokens': 104, 'completion_tokens_details': {'accepted_prediction_tokens': 0, 'audio_tokens': 0, 'reasoning_tokens': 0, 'rejected_prediction_tokens': 0}, 'prompt_tokens_details': {'audio_tokens': 0, 'cached_tokens': 0}}, \n",
    "                'model_name': 'gpt-4o-mini-2024-07-18', \n",
    "                'system_fingerprint': 'fp_72ed7ab54c', \n",
    "                'finish_reason': 'tool_calls', \n",
    "                'logprobs': None\n",
    "            }, \n",
    "            id='run-53fdf5a5-1808-4954-81b6-d00178009872-0', \n",
    "            tool_calls=[\n",
    "                {\n",
    "                    'name': 'tavily_search_results_json', \n",
    "                    'args': {'query': 'Kpop news and updates'}, \n",
    "                    'id': 'call_M6jnUNaEuGdPoKeCBTHBbX5C', \n",
    "                    'type': 'tool_call'\n",
    "                }\n",
    "            ], \n",
    "            usage_metadata={'input_tokens': 81, 'output_tokens': 23, 'total_tokens': 104, 'input_token_details': {'audio': 0, 'cache_read': 0}, 'output_token_details': {'audio': 0, 'reasoning': 0}}\n",
    "        ),\n",
    "        ToolMessage(\n",
    "            content='''\n",
    "[\n",
    "    {\n",
    "        \"url\": \"https://meaww.com/entertainment/k-pop\", \n",
    "        \"content\": \"K-POP NEWS Tired Wonyoung has IVE fans worried about her \\'too severe\\' schedule amid constant Paris trips After the K-pop idol was seen trying to catch her breath during a performance, fans are worried Sep 30, 2022 K-POP NEWS APAN Star Awards 2022: Winners include Park Ji Hu, Yoon Chan Yang while KONNECT artists wow viewers\"\n",
    "    }, \n",
    "    {\n",
    "        \"url\": \"https://www.koreaboo.com/news/\", \n",
    "        \"content\": \"Latest updates on BTS, EXO, TWICE and every other K-Pop group. Get alerts on breaking K-Pop news and viral buzz on K-Pop idols.\"\n",
    "    }, \n",
    "    {\n",
    "        \"url\": \"https://hallyubeat.com/\", \n",
    "        \"content\": \"K-POP NEWS. PROFILES. LIFESTYLE | FASHION | BEAUTY. Search. TOP NEWS. K-DRAMA & MOVIES. The truth is Unmasked on new Disney+ Hotstar series. Hallyu Unnie-15/01/2025. MUSIC. SM Faces Backlash for Allegedly Sabotaging RED VELVET Again. Administrator-15/01/2025. FEATURES. ADOR Seeks Injunction to Block NEWJEANS From Solo Ad Deals\"\n",
    "    }\n",
    "]\n",
    "''', \n",
    "            name='tavily_search_results_json', \n",
    "            id='f4b04aaf-88f5-4cab-81c3-3445eadac812', \n",
    "            tool_call_id='call_M6jnUNaEuGdPoKeCBTHBbX5C'\n",
    "        ),\n",
    "        AIMessage(\n",
    "            content=\"\"\"\n",
    "Here are some recent updates and news related to K-pop:\n",
    "\n",
    "1. **IVE's Wonyoung**: Fans are concerned about Wonyoung's intense schedule after she was seen struggling to catch her breath during a performance. This has raised worries among her supporters regarding her well-being. [Read more here](https://meaww.com/entertainment/k-pop).\n",
    "\n",
    "2. **K-Pop News Updates**: For the latest updates on popular groups like BTS, EXO, and TWICE, you can check out Korea Boo, which provides alerts on breaking news and viral buzz surrounding K-pop idols. [Visit Korea Boo](https://www.koreaboo.com/news/).\n",
    "\n",
    "3. **SM Entertainment Controversy**: SM Entertainment is facing backlash for allegedly sabotaging the group Red Velvet. This has sparked discussions among fans and the K-pop community. [More details here](https://hallyubeat.com/).\n",
    "\n",
    "Feel free to explore these links for more in-depth information!\n",
    "\"\"\", \n",
    "            additional_kwargs={'refusal': None}, \n",
    "            response_metadata={\n",
    "                'token_usage': {'completion_tokens': 202, 'prompt_tokens': 390, 'total_tokens': 592, 'completion_tokens_details': {'accepted_prediction_tokens': 0, 'audio_tokens': 0, 'reasoning_tokens': 0, 'rejected_prediction_tokens': 0}, 'prompt_tokens_details': {'audio_tokens': 0, 'cached_tokens': 0}}, \n",
    "                'model_name': 'gpt-4o-mini-2024-07-18', \n",
    "                'system_fingerprint': 'fp_72ed7ab54c', \n",
    "                'finish_reason': 'stop', \n",
    "                'logprobs': None\n",
    "            }, \n",
    "            id='run-602f6397-9093-4127-891d-2db992f50fa1-0', \n",
    "            usage_metadata={'input_tokens': 390, 'output_tokens': 202, 'total_tokens': 592, 'input_token_details': {'audio': 0, 'cache_read': 0}, 'output_token_details': {'audio': 0, 'reasoning': 0}}\n",
    "        )\n",
    "    ]\n",
    "}"
   ]
  }
 ],
 "metadata": {
  "kernelspec": {
   "display_name": "agent",
   "language": "python",
   "name": "python3"
  },
  "language_info": {
   "codemirror_mode": {
    "name": "ipython",
    "version": 3
   },
   "file_extension": ".py",
   "mimetype": "text/x-python",
   "name": "python",
   "nbconvert_exporter": "python",
   "pygments_lexer": "ipython3",
   "version": "3.11.10"
  }
 },
 "nbformat": 4,
 "nbformat_minor": 2
}
