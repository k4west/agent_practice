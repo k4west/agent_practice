{
 "cells": [
  {
   "cell_type": "code",
   "execution_count": 1,
   "metadata": {},
   "outputs": [
    {
     "data": {
      "image/png": "[encoded data removed]",
      "text/plain": [
       "<IPython.core.display.Image object>"
      ]
     },
     "metadata": {},
     "output_type": "display_data"
    }
   ],
   "source": [
    "from dotenv import load_dotenv\n",
    "from typing import List, Dict\n",
    "from langchain_core.tools import tool\n",
    "from langchain_core.messages import AIMessage\n",
    "from langchain_experimental.tools import PythonAstREPLTool\n",
    "from langchain_openai import ChatOpenAI\n",
    "from langgraph.graph import StateGraph, MessagesState, START, END\n",
    "from langgraph.prebuilt import ToolNode, tools_condition\n",
    "from IPython.display import Image, display\n",
    "\n",
    "import sys\n",
    "sys.path.append('../..')\n",
    "from agent_tools.custom_tools import search_news as search_news_\n",
    "\n",
    "\n",
    "@tool\n",
    "def search_news(query:str) -> List[Dict[str, str]]:\n",
    "    \"\"\"Search Naver News by input keyword\"\"\"\n",
    "    return [\n",
    "        {\n",
    "            \"url\": item[\"link\"],\n",
    "            \"content\": item[\"content\"]\n",
    "        } for item in search_news_.invoke(query)[:5]\n",
    "    ]\n",
    "\n",
    "\n",
    "@tool\n",
    "def python_code_interpreter(code: str):\n",
    "    \"\"\"Call to excute python code\"\"\"\n",
    "    return PythonAstREPLTool().invoke(code)\n",
    "\n",
    "\n",
    "load_dotenv()\n",
    "tools = [search_news, python_code_interpreter]\n",
    "tool_node = ToolNode(tools)\n",
    "model_with_tools = ChatOpenAI(model='gpt-4o-mini', temperature=0).bind_tools(tools)\n",
    "\n",
    "\n",
    "def call_model(state: MessagesState):\n",
    "    messages = state[\"messages\"]\n",
    "    response = model_with_tools.invoke(messages)\n",
    "    return {\"messages\": [response]}\n",
    "\n",
    "\n",
    "workflow = StateGraph(MessagesState)\n",
    "workflow.add_node(\"agent\", call_model)\n",
    "workflow.add_node(\"tools\", tool_node)\n",
    "workflow.add_edge(START, \"agent\")\n",
    "workflow.add_conditional_edges(\"agent\", tools_condition)\n",
    "workflow.add_edge(\"tools\", \"agent\")\n",
    "workflow.add_edge(\"agent\", END)\n",
    "\n",
    "app = workflow.compile()\n",
    "\n",
    "display(Image(app.get_graph(xray=True).draw_mermaid_png()))\n"
   ]
  },
  {
   "cell_type": "markdown",
   "metadata": {},
   "source": [
    "### Agent"
   ]
  },
  {
   "cell_type": "code",
   "execution_count": 2,
   "metadata": {},
   "outputs": [
    {
     "name": "stdout",
     "output_type": "stream",
     "text": [
      "================================\u001b[1m Human Message \u001b[0m=================================\n",
      "\n",
      "처음 5개의 소수를 출력하는 python code 를 작성해줘\n",
      "==================================\u001b[1m Ai Message \u001b[0m==================================\n",
      "Tool Calls:\n",
      "  python_code_interpreter (call_tsOorBcNq7FQlt6dOLV8070R)\n",
      " Call ID: call_tsOorBcNq7FQlt6dOLV8070R\n",
      "  Args:\n",
      "    code: def first_n_primes(n):\n",
      "    primes = []\n",
      "    num = 2  # Starting from the first prime number\n",
      "    while len(primes) < n:\n",
      "        is_prime = True\n",
      "        for i in range(2, int(num**0.5) + 1):\n",
      "            if num % i == 0:\n",
      "                is_prime = False\n",
      "                break\n",
      "        if is_prime:\n",
      "            primes.append(num)\n",
      "        num += 1\n",
      "    return primes\n",
      "\n",
      "# Get the first 5 prime numbers\n",
      "first_n_primes(5)\n",
      "=================================\u001b[1m Tool Message \u001b[0m=================================\n",
      "Name: python_code_interpreter\n",
      "\n",
      "[2, 3, 5, 7, 11]\n",
      "==================================\u001b[1m Ai Message \u001b[0m==================================\n",
      "\n",
      "처음 5개의 소수는 다음과 같습니다: [2, 3, 5, 7, 11]\n"
     ]
    }
   ],
   "source": [
    "# python code\n",
    "for chunk in app.stream(\n",
    "    {\"messages\": [(\"human\", \"처음 5개의 소수를 출력하는 python code 를 작성해줘\")]},\n",
    "    stream_mode=\"values\"\n",
    "):\n",
    "    chunk[\"messages\"][-1].pretty_print()\n"
   ]
  },
  {
   "cell_type": "code",
   "execution_count": 3,
   "metadata": {},
   "outputs": [
    {
     "name": "stdout",
     "output_type": "stream",
     "text": [
      "================================\u001b[1m Human Message \u001b[0m=================================\n",
      "\n",
      "search naver news about AI\n",
      "==================================\u001b[1m Ai Message \u001b[0m==================================\n",
      "Tool Calls:\n",
      "  search_news (call_Lr2q258W57P2N2XPQUgXLFYT)\n",
      " Call ID: call_Lr2q258W57P2N2XPQUgXLFYT\n",
      "  Args:\n",
      "    query: AI\n",
      "=================================\u001b[1m Tool Message \u001b[0m=================================\n",
      "Name: search_news\n",
      "\n",
      "[{\"url\": \"https://n.news.naver.com/mnews/article/008/0005142434?sid=100\", \"content\": \"[단독]\\\"AI 교과서 지위유지\\\" 교육감들 입장문, 전국 교육청 절반 이상 \\\"몰랐다\\\"\"}, {\"url\": \"https://n.news.naver.com/mnews/article/003/0013021600?sid=101\", \"content\": \"씨어스테크놀로지, GAC서 AI 헬스케어 기기 공개\"}, {\"url\": \"https://n.news.naver.com/mnews/article/018/0005927114?sid=101\", \"content\": \"머스크 AI개발사 납품 소식에…LS그룹주 급등[특징주]\"}, {\"url\": \"https://n.news.naver.com/mnews/article/001/0015165926?sid=102\", \"content\": \"강기정 광주시장, 최상목 대행에 AI 2단계 예타 면제 요청\"}, {\"url\": \"https://n.news.naver.com/mnews/article/001/0015164855?sid=105\", \"content\": \"한국IBM, 노동부 주관 AI 전문 인재 양성 사업 참여\"}]\n",
      "==================================\u001b[1m Ai Message \u001b[0m==================================\n",
      "\n",
      "Here are some recent news articles about AI from Naver:\n",
      "\n",
      "1. **[단독] \"AI 교과서 지위유지\" 교육감들 입장문, 전국 교육청 절반 이상 \"몰랐다\"**  \n",
      "   [Read more](https://n.news.naver.com/mnews/article/008/0005142434?sid=100)\n",
      "\n",
      "2. **씨어스테크놀로지, GAC서 AI 헬스케어 기기 공개**  \n",
      "   [Read more](https://n.news.naver.com/mnews/article/003/0013021600?sid=101)\n",
      "\n",
      "3. **머스크 AI개발사 납품 소식에…LS그룹주 급등[특징주]**  \n",
      "   [Read more](https://n.news.naver.com/mnews/article/018/0005927114?sid=101)\n",
      "\n",
      "4. **강기정 광주시장, 최상목 대행에 AI 2단계 예타 면제 요청**  \n",
      "   [Read more](https://n.news.naver.com/mnews/article/001/0015165926?sid=102)\n",
      "\n",
      "5. **한국IBM, 노동부 주관 AI 전문 인재 양성 사업 참여**  \n",
      "   [Read more](https://n.news.naver.com/mnews/article/001/0015164855?sid=105)\n",
      "\n",
      "Feel free to click on the links to read more about each article!\n"
     ]
    }
   ],
   "source": [
    "# 기사 검색\n",
    "for chunk in app.stream(\n",
    "    {\"messages\": [(\"human\", \"search naver news about AI\")]},\n",
    "    stream_mode=\"values\",\n",
    "):\n",
    "    chunk[\"messages\"][-1].pretty_print()\n"
   ]
  },
  {
   "cell_type": "code",
   "execution_count": 4,
   "metadata": {},
   "outputs": [
    {
     "name": "stdout",
     "output_type": "stream",
     "text": [
      "================================\u001b[1m Human Message \u001b[0m=================================\n",
      "\n",
      "안녕? 반가워\n",
      "==================================\u001b[1m Ai Message \u001b[0m==================================\n",
      "\n",
      "안녕하세요! 반갑습니다. 어떻게 도와드릴까요?\n"
     ]
    }
   ],
   "source": [
    "# 도구 호출이 필요 없는 질문 수행\n",
    "for chunk in app.stream(\n",
    "    {\"messages\": [(\"human\", \"안녕? 반가워\")]},\n",
    "    stream_mode=\"values\",\n",
    "):\n",
    "    chunk[\"messages\"][-1].pretty_print()\n"
   ]
  },
  {
   "cell_type": "markdown",
   "metadata": {},
   "source": [
    "### ToolNode 수동 호출"
   ]
  },
  {
   "cell_type": "code",
   "execution_count": 5,
   "metadata": {},
   "outputs": [],
   "source": [
    "\n",
    "def test_single_tool_call():\n",
    "    message_with_single_tool_call = AIMessage(\n",
    "        content=\"\",\n",
    "        tool_calls=[\n",
    "            {\n",
    "                \"name\": \"search_news\",\n",
    "                \"args\": {\"query\": \"AI\"},\n",
    "                \"id\": \"tool_call_id\",\n",
    "                \"type\": \"tool_call\"\n",
    "            }\n",
    "        ]\n",
    "    )\n",
    "    response = tool_node.invoke({\"messages\": [message_with_single_tool_call]})\n",
    "    return response\n",
    "\n",
    "def test_multiple_tool_call():\n",
    "    message_with_multiple_tool_calls = AIMessage(\n",
    "        content=\"\",\n",
    "        tool_calls=[\n",
    "            {\n",
    "                \"name\": \"search_news\",\n",
    "                \"args\": {\"query\": \"AI\"},\n",
    "                \"id\": \"tool_call_id\",\n",
    "                \"type\": \"tool_call\",\n",
    "            },\n",
    "            {\n",
    "                \"name\": \"python_code_interpreter\",\n",
    "                \"args\": {\"code\": \"print(1+2+3+4)\"},\n",
    "                \"id\": \"tool_call_id\",\n",
    "                \"type\": \"tool_call\",\n",
    "            },\n",
    "        ],\n",
    "    )\n",
    "\n",
    "    response = tool_node.invoke({\"messages\": [message_with_multiple_tool_calls]})\n",
    "    return response\n"
   ]
  },
  {
   "cell_type": "code",
   "execution_count": 6,
   "metadata": {},
   "outputs": [
    {
     "data": {
      "text/plain": [
       "{'messages': [ToolMessage(content='[{\"url\": \"https://n.news.naver.com/mnews/article/008/0005142434?sid=100\", \"content\": \"[단독]\\\\\"AI 교과서 지위유지\\\\\" 교육감들 입장문, 전국 교육청 절반 이상 \\\\\"몰랐다\\\\\"\"}, {\"url\": \"https://n.news.naver.com/mnews/article/003/0013021600?sid=101\", \"content\": \"씨어스테크놀로지, GAC서 AI 헬스케어 기기 공개\"}, {\"url\": \"https://n.news.naver.com/mnews/article/018/0005927114?sid=101\", \"content\": \"머스크 AI개발사 납품 소식에…LS그룹주 급등[특징주]\"}, {\"url\": \"https://n.news.naver.com/mnews/article/001/0015165926?sid=102\", \"content\": \"강기정 광주시장, 최상목 대행에 AI 2단계 예타 면제 요청\"}, {\"url\": \"https://n.news.naver.com/mnews/article/001/0015164855?sid=105\", \"content\": \"한국IBM, 노동부 주관 AI 전문 인재 양성 사업 참여\"}]', name='search_news', tool_call_id='tool_call_id')]}"
      ]
     },
     "execution_count": 6,
     "metadata": {},
     "output_type": "execute_result"
    }
   ],
   "source": [
    "test_single_tool_call()\n"
   ]
  },
  {
   "cell_type": "code",
   "execution_count": 7,
   "metadata": {},
   "outputs": [
    {
     "data": {
      "text/plain": [
       "{'messages': [ToolMessage(content='[{\"url\": \"https://n.news.naver.com/mnews/article/008/0005142434?sid=100\", \"content\": \"[단독]\\\\\"AI 교과서 지위유지\\\\\" 교육감들 입장문, 전국 교육청 절반 이상 \\\\\"몰랐다\\\\\"\"}, {\"url\": \"https://n.news.naver.com/mnews/article/003/0013021600?sid=101\", \"content\": \"씨어스테크놀로지, GAC서 AI 헬스케어 기기 공개\"}, {\"url\": \"https://n.news.naver.com/mnews/article/018/0005927114?sid=101\", \"content\": \"머스크 AI개발사 납품 소식에…LS그룹주 급등[특징주]\"}, {\"url\": \"https://n.news.naver.com/mnews/article/001/0015165926?sid=102\", \"content\": \"강기정 광주시장, 최상목 대행에 AI 2단계 예타 면제 요청\"}, {\"url\": \"https://n.news.naver.com/mnews/article/001/0015164855?sid=105\", \"content\": \"한국IBM, 노동부 주관 AI 전문 인재 양성 사업 참여\"}]', name='search_news', tool_call_id='tool_call_id'),\n",
       "  ToolMessage(content='10\\n', name='python_code_interpreter', tool_call_id='tool_call_id')]}"
      ]
     },
     "execution_count": 7,
     "metadata": {},
     "output_type": "execute_result"
    }
   ],
   "source": [
    "test_multiple_tool_call()\n"
   ]
  },
  {
   "cell_type": "markdown",
   "metadata": {},
   "source": [
    "### LLM + 도구"
   ]
  },
  {
   "cell_type": "code",
   "execution_count": 8,
   "metadata": {},
   "outputs": [
    {
     "data": {
      "text/plain": [
       "[{'name': 'python_code_interpreter',\n",
       "  'args': {'code': 'def first_n_primes(n):\\n    primes = []\\n    num = 2  # Starting from the first prime number\\n    while len(primes) < n:\\n        is_prime = True\\n        for i in range(2, int(num**0.5) + 1):\\n            if num % i == 0:\\n                is_prime = False\\n                break\\n        if is_prime:\\n            primes.append(num)\\n        num += 1\\n    return primes\\n\\n# Get the first 5 prime numbers\\nfirst_n_primes(5)'},\n",
       "  'id': 'call_JDDReTwkEzG3RfZLJZanpzC2',\n",
       "  'type': 'tool_call'}]"
      ]
     },
     "execution_count": 8,
     "metadata": {},
     "output_type": "execute_result"
    }
   ],
   "source": [
    "# 도구 호출 확인\n",
    "model_with_tools.invoke(\"처음 5개의 소수를 출력하는 python code 를 작성해줘\").tool_calls\n"
   ]
  },
  {
   "cell_type": "code",
   "execution_count": 9,
   "metadata": {},
   "outputs": [
    {
     "data": {
      "text/plain": [
       "{'messages': [ToolMessage(content='[2, 3, 5, 7, 11]', name='python_code_interpreter', tool_call_id='call_zHuZ4kgeoEFznzXUgph2bsoR')]}"
      ]
     },
     "execution_count": 9,
     "metadata": {},
     "output_type": "execute_result"
    }
   ],
   "source": [
    "# 도구 노드를 통한 메시지 처리 및 LLM 모델의 도구 기반 응답 생성\n",
    "tool_node.invoke(\n",
    "    {\n",
    "        \"messages\": [\n",
    "            model_with_tools.invoke(\n",
    "                \"처음 5개의 소수를 출력하는 python code 를 작성해줘\"\n",
    "            )\n",
    "        ]\n",
    "    }\n",
    ")\n"
   ]
  },
  {
   "cell_type": "markdown",
   "metadata": {},
   "source": [
    "### TypedDict 관련"
   ]
  },
  {
   "cell_type": "code",
   "execution_count": 11,
   "metadata": {},
   "outputs": [
    {
     "data": {
      "text/plain": [
       "(frozenset({'messages'}), frozenset({'messages'}))"
      ]
     },
     "execution_count": 11,
     "metadata": {},
     "output_type": "execute_result"
    }
   ],
   "source": [
    "from typing import NotRequired\n",
    "from langgraph.graph import MessagesState\n",
    "\n",
    "class State1(MessagesState, total=False):\n",
    "    dummy1: str\n",
    "\n",
    "class State2(MessagesState):\n",
    "    dummy2: NotRequired[str]\n",
    "\n",
    "\n",
    "State1.__required_keys__, State2.__required_keys__\n"
   ]
  },
  {
   "cell_type": "code",
   "execution_count": 12,
   "metadata": {},
   "outputs": [
    {
     "data": {
      "text/plain": [
       "(frozenset({'dummy1'}), frozenset({'dummy2'}))"
      ]
     },
     "execution_count": 12,
     "metadata": {},
     "output_type": "execute_result"
    }
   ],
   "source": [
    "State1.__optional_keys__, State2.__optional_keys__\n"
   ]
  }
 ],
 "metadata": {
  "kernelspec": {
   "display_name": "agent",
   "language": "python",
   "name": "python3"
  },
  "language_info": {
   "codemirror_mode": {
    "name": "ipython",
    "version": 3
   },
   "file_extension": ".py",
   "mimetype": "text/x-python",
   "name": "python",
   "nbconvert_exporter": "python",
   "pygments_lexer": "ipython3",
   "version": "3.11.10"
  }
 },
 "nbformat": 4,
 "nbformat_minor": 2
}
