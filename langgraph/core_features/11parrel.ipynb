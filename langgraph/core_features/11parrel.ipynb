{
 "cells": [
  {
   "cell_type": "code",
   "execution_count": 1,
   "metadata": {},
   "outputs": [],
   "source": [
    "from typing import Annotated, Any, Sequence\n",
    "from typing_extensions import TypedDict\n",
    "from langgraph.graph import StateGraph, START, END\n",
    "from langgraph.graph.message import add_messages\n",
    "from IPython.display import Image, display\n"
   ]
  },
  {
   "cell_type": "markdown",
   "metadata": {},
   "source": [
    "### 병렬 노드"
   ]
  },
  {
   "cell_type": "code",
   "execution_count": 37,
   "metadata": {},
   "outputs": [
    {
     "data": {
      "image/png": "[encoded data removed]",
      "text/plain": [
       "<IPython.core.display.Image object>"
      ]
     },
     "metadata": {},
     "output_type": "display_data"
    }
   ],
   "source": [
    "class State(TypedDict):\n",
    "    aggregate: Annotated[list, add_messages]\n",
    "\n",
    "\n",
    "class ReturnNodeValue:\n",
    "    def __init__(self, node_secret: str):\n",
    "        self._value = node_secret\n",
    "    \n",
    "    def __call__(self, state: State) -> Any:\n",
    "        print(f\"Adding {self._value} to {state['aggregate']}\")\n",
    "        return {\"aggregate\": [self._value]}\n",
    "\n",
    "builder = StateGraph(State)\n",
    "\n",
    "builder.add_node(\"a\", ReturnNodeValue(\"I'm A\"))\n",
    "builder.add_node(\"b\", ReturnNodeValue(\"I'm B\"))\n",
    "builder.add_node(\"c\", ReturnNodeValue(\"I'm C\"))\n",
    "builder.add_node(\"d\", ReturnNodeValue(\"I'm D\"))\n",
    "\n",
    "builder.add_edge(START, \"a\")\n",
    "builder.add_edge(\"a\", \"b\")\n",
    "builder.add_edge(\"a\", \"c\")\n",
    "builder.add_edge(\"b\", \"d\")\n",
    "builder.add_edge(\"c\", \"d\")\n",
    "builder.add_edge(\"d\", END)\n",
    "\n",
    "graph = builder.compile()\n",
    "\n",
    "display(Image(graph.get_graph(xray=True).draw_mermaid_png()))\n"
   ]
  },
  {
   "cell_type": "code",
   "execution_count": 3,
   "metadata": {},
   "outputs": [
    {
     "name": "stdout",
     "output_type": "stream",
     "text": [
      "Adding I'm A to []\n",
      "Adding I'm B to [HumanMessage(content=\"I'm A\", additional_kwargs={}, response_metadata={}, id='1aa6441f-5593-4b8e-b71f-602626193b33')]\n",
      "Adding I'm C to [HumanMessage(content=\"I'm A\", additional_kwargs={}, response_metadata={}, id='1aa6441f-5593-4b8e-b71f-602626193b33')]\n",
      "Adding I'm D to [HumanMessage(content=\"I'm A\", additional_kwargs={}, response_metadata={}, id='1aa6441f-5593-4b8e-b71f-602626193b33'), HumanMessage(content=\"I'm B\", additional_kwargs={}, response_metadata={}, id='78aed7bd-2e9e-4f00-9b87-f2f0a28988f0'), HumanMessage(content=\"I'm C\", additional_kwargs={}, response_metadata={}, id='28554773-dace-4b04-85a5-32f5714f621d')]\n"
     ]
    },
    {
     "data": {
      "text/plain": [
       "{'aggregate': [HumanMessage(content=\"I'm A\", additional_kwargs={}, response_metadata={}, id='1aa6441f-5593-4b8e-b71f-602626193b33'),\n",
       "  HumanMessage(content=\"I'm B\", additional_kwargs={}, response_metadata={}, id='78aed7bd-2e9e-4f00-9b87-f2f0a28988f0'),\n",
       "  HumanMessage(content=\"I'm C\", additional_kwargs={}, response_metadata={}, id='28554773-dace-4b04-85a5-32f5714f621d'),\n",
       "  HumanMessage(content=\"I'm D\", additional_kwargs={}, response_metadata={}, id='0078f69a-4fa5-4694-910c-b383e0c5c530')]}"
      ]
     },
     "execution_count": 3,
     "metadata": {},
     "output_type": "execute_result"
    }
   ],
   "source": [
    "graph.invoke({\"aggregate\": []}, {\"configurable\": {\"thread_id\": \"foo\"}})"
   ]
  },
  {
   "cell_type": "markdown",
   "metadata": {},
   "source": [
    "### 예외"
   ]
  },
  {
   "cell_type": "code",
   "execution_count": 53,
   "metadata": {},
   "outputs": [
    {
     "data": {
      "text/plain": [
       "{'initial_interval': float,\n",
       " 'backoff_factor': float,\n",
       " 'max_interval': float,\n",
       " 'max_attempts': int,\n",
       " 'jitter': bool,\n",
       " 'retry_on': typing.Union[typing.Type[Exception], typing.Sequence[typing.Type[Exception]], typing.Callable[[Exception], bool]]}"
      ]
     },
     "execution_count": 53,
     "metadata": {},
     "output_type": "execute_result"
    }
   ],
   "source": [
    "from langgraph.pregel import RetryPolicy\n",
    "\n",
    "RetryPolicy().__annotations__"
   ]
  },
  {
   "cell_type": "code",
   "execution_count": null,
   "metadata": {},
   "outputs": [],
   "source": [
    "builder.add_node(\n",
    "    \"a\",\n",
    "    print,\n",
    "    retry=RetryPolicy(),\n",
    ")"
   ]
  },
  {
   "cell_type": "markdown",
   "metadata": {},
   "source": [
    "### 추가 단계"
   ]
  },
  {
   "cell_type": "code",
   "execution_count": 4,
   "metadata": {},
   "outputs": [
    {
     "data": {
      "image/png": "[encoded data removed]",
      "text/plain": [
       "<IPython.core.display.Image object>"
      ]
     },
     "metadata": {},
     "output_type": "display_data"
    }
   ],
   "source": [
    "builder = StateGraph(State)\n",
    "\n",
    "builder.add_node(\"a\", ReturnNodeValue(\"I'm A\"))\n",
    "builder.add_edge(START, \"a\")\n",
    "builder.add_node(\"b1\", ReturnNodeValue(\"I'm B1\"))\n",
    "builder.add_node(\"b2\", ReturnNodeValue(\"I'm B2\"))\n",
    "builder.add_node(\"c\", ReturnNodeValue(\"I'm C\"))\n",
    "builder.add_node(\"d\", ReturnNodeValue(\"I'm D\"))\n",
    "builder.add_edge(\"a\", \"b1\")\n",
    "builder.add_edge(\"a\", \"c\")\n",
    "builder.add_edge(\"b1\", \"b2\")\n",
    "builder.add_edge([\"b2\", \"c\"], \"d\")\n",
    "builder.add_edge(\"d\", END)\n",
    "\n",
    "graph = builder.compile()\n",
    "\n",
    "display(Image(graph.get_graph(xray=True).draw_mermaid_png()))\n"
   ]
  },
  {
   "cell_type": "code",
   "execution_count": 5,
   "metadata": {},
   "outputs": [
    {
     "name": "stdout",
     "output_type": "stream",
     "text": [
      "Adding I'm A to []\n",
      "Adding I'm B1 to [HumanMessage(content=\"I'm A\", additional_kwargs={}, response_metadata={}, id='0d66754e-1ac5-4e5e-8073-8f26930bc53b')]\n",
      "Adding I'm C to [HumanMessage(content=\"I'm A\", additional_kwargs={}, response_metadata={}, id='0d66754e-1ac5-4e5e-8073-8f26930bc53b')]\n",
      "Adding I'm B2 to [HumanMessage(content=\"I'm A\", additional_kwargs={}, response_metadata={}, id='0d66754e-1ac5-4e5e-8073-8f26930bc53b'), HumanMessage(content=\"I'm B1\", additional_kwargs={}, response_metadata={}, id='7094764d-370f-443c-bb13-732aa25cc969'), HumanMessage(content=\"I'm C\", additional_kwargs={}, response_metadata={}, id='20263e3f-b8cd-4758-b37a-a786ee0c5a42')]\n",
      "Adding I'm D to [HumanMessage(content=\"I'm A\", additional_kwargs={}, response_metadata={}, id='0d66754e-1ac5-4e5e-8073-8f26930bc53b'), HumanMessage(content=\"I'm B1\", additional_kwargs={}, response_metadata={}, id='7094764d-370f-443c-bb13-732aa25cc969'), HumanMessage(content=\"I'm C\", additional_kwargs={}, response_metadata={}, id='20263e3f-b8cd-4758-b37a-a786ee0c5a42'), HumanMessage(content=\"I'm B2\", additional_kwargs={}, response_metadata={}, id='029ad901-3a5c-43a1-a7de-03770439a4b8')]\n"
     ]
    },
    {
     "data": {
      "text/plain": [
       "{'aggregate': [HumanMessage(content=\"I'm A\", additional_kwargs={}, response_metadata={}, id='0d66754e-1ac5-4e5e-8073-8f26930bc53b'),\n",
       "  HumanMessage(content=\"I'm B1\", additional_kwargs={}, response_metadata={}, id='7094764d-370f-443c-bb13-732aa25cc969'),\n",
       "  HumanMessage(content=\"I'm C\", additional_kwargs={}, response_metadata={}, id='20263e3f-b8cd-4758-b37a-a786ee0c5a42'),\n",
       "  HumanMessage(content=\"I'm B2\", additional_kwargs={}, response_metadata={}, id='029ad901-3a5c-43a1-a7de-03770439a4b8'),\n",
       "  HumanMessage(content=\"I'm D\", additional_kwargs={}, response_metadata={}, id='eb159133-f7d8-4943-9f2d-9a1f2df0e5bd')]}"
      ]
     },
     "execution_count": 5,
     "metadata": {},
     "output_type": "execute_result"
    }
   ],
   "source": [
    "graph.invoke({\"aggregate\": []})\n"
   ]
  },
  {
   "cell_type": "markdown",
   "metadata": {},
   "source": [
    "### conditional branching"
   ]
  },
  {
   "cell_type": "code",
   "execution_count": 29,
   "metadata": {},
   "outputs": [
    {
     "data": {
      "image/png": "[encoded data removed]",
      "text/plain": [
       "<IPython.core.display.Image object>"
      ]
     },
     "metadata": {},
     "output_type": "display_data"
    }
   ],
   "source": [
    "class State1(State):\n",
    "    which: str\n",
    "\n",
    "\n",
    "class ReturnNodeValue1:\n",
    "    def __init__(self, node_secret: str):\n",
    "        self._value = node_secret\n",
    "    \n",
    "    def __call__(self, state: State1) -> Any:\n",
    "        print(f\"Adding {self._value} to {state['aggregate']}\")\n",
    "        return {\"aggregate\": [self._value]}\n",
    "    \n",
    "def route_bc_or_cd(state: State1) -> Sequence[str]:\n",
    "    if state[\"which\"] == \"cd\":\n",
    "        return [\"c\", \"d\"]\n",
    "    return [\"b\", \"c\"]\n",
    "\n",
    "\n",
    "builder = StateGraph(State1)\n",
    "builder.add_node(\"a\", ReturnNodeValue1(\"I'm A\"))\n",
    "builder.add_node(\"b\", ReturnNodeValue1(\"I'm B\"))\n",
    "builder.add_node(\"c\", ReturnNodeValue1(\"I'm C\"))\n",
    "builder.add_node(\"d\", ReturnNodeValue1(\"I'm D\"))\n",
    "builder.add_node(\"e\", ReturnNodeValue1(\"I'm E\"))\n",
    "\n",
    "builder.add_edge(START, \"a\")\n",
    "intermediates = [\"b\", \"c\", \"d\"]\n",
    "\n",
    "builder.add_conditional_edges(\n",
    "    \"a\",\n",
    "    route_bc_or_cd,\n",
    "    intermediates,\n",
    "    then=\"e\",\n",
    ")\n",
    "# builder.add_conditional_edges(\n",
    "#     \"a\",\n",
    "#     route_bc_or_cd,\n",
    "#     intermediates\n",
    "# )\n",
    "# for node in intermediates:\n",
    "#     builder.add_edge(node, \"e\")\n",
    "# builder.add_edge(\"e\", END)\n",
    "\n",
    "graph = builder.compile()\n",
    "\n",
    "display(Image(graph.get_graph(xray=True).draw_mermaid_png()))\n"
   ]
  },
  {
   "cell_type": "code",
   "execution_count": 30,
   "metadata": {},
   "outputs": [
    {
     "name": "stdout",
     "output_type": "stream",
     "text": [
      "Adding I'm A to []\n",
      "Adding I'm B to [HumanMessage(content=\"I'm A\", additional_kwargs={}, response_metadata={}, id='51819aff-eb2f-4cc2-bd80-7d95650c78b6')]\n",
      "Adding I'm C to [HumanMessage(content=\"I'm A\", additional_kwargs={}, response_metadata={}, id='51819aff-eb2f-4cc2-bd80-7d95650c78b6')]\n",
      "Adding I'm E to [HumanMessage(content=\"I'm A\", additional_kwargs={}, response_metadata={}, id='51819aff-eb2f-4cc2-bd80-7d95650c78b6'), HumanMessage(content=\"I'm B\", additional_kwargs={}, response_metadata={}, id='3b3b835f-e1ca-4371-968c-fe115242518b'), HumanMessage(content=\"I'm C\", additional_kwargs={}, response_metadata={}, id='01d33d29-c617-40b2-a580-99f2c4100c4b')]\n"
     ]
    },
    {
     "data": {
      "text/plain": [
       "{'aggregate': [HumanMessage(content=\"I'm A\", additional_kwargs={}, response_metadata={}, id='51819aff-eb2f-4cc2-bd80-7d95650c78b6'),\n",
       "  HumanMessage(content=\"I'm B\", additional_kwargs={}, response_metadata={}, id='3b3b835f-e1ca-4371-968c-fe115242518b'),\n",
       "  HumanMessage(content=\"I'm C\", additional_kwargs={}, response_metadata={}, id='01d33d29-c617-40b2-a580-99f2c4100c4b'),\n",
       "  HumanMessage(content=\"I'm E\", additional_kwargs={}, response_metadata={}, id='f8210bf7-f74f-4090-8792-d48dd3ed34d7')],\n",
       " 'which': 'bc'}"
      ]
     },
     "execution_count": 30,
     "metadata": {},
     "output_type": "execute_result"
    }
   ],
   "source": [
    "graph.invoke({\"aggregate\": [], \"which\": \"bc\"})\n"
   ]
  },
  {
   "cell_type": "code",
   "execution_count": 31,
   "metadata": {},
   "outputs": [
    {
     "name": "stdout",
     "output_type": "stream",
     "text": [
      "Adding I'm A to []\n",
      "Adding I'm C to [HumanMessage(content=\"I'm A\", additional_kwargs={}, response_metadata={}, id='6150574f-7667-4710-90d5-9eb9df0b10f6')]\n",
      "Adding I'm D to [HumanMessage(content=\"I'm A\", additional_kwargs={}, response_metadata={}, id='6150574f-7667-4710-90d5-9eb9df0b10f6')]\n",
      "Adding I'm E to [HumanMessage(content=\"I'm A\", additional_kwargs={}, response_metadata={}, id='6150574f-7667-4710-90d5-9eb9df0b10f6'), HumanMessage(content=\"I'm C\", additional_kwargs={}, response_metadata={}, id='1a82e86c-168b-4922-bdb9-1006fc021b92'), HumanMessage(content=\"I'm D\", additional_kwargs={}, response_metadata={}, id='db13fa6e-8481-4724-832b-6f9c7662c4ce')]\n"
     ]
    },
    {
     "data": {
      "text/plain": [
       "{'aggregate': [HumanMessage(content=\"I'm A\", additional_kwargs={}, response_metadata={}, id='6150574f-7667-4710-90d5-9eb9df0b10f6'),\n",
       "  HumanMessage(content=\"I'm C\", additional_kwargs={}, response_metadata={}, id='1a82e86c-168b-4922-bdb9-1006fc021b92'),\n",
       "  HumanMessage(content=\"I'm D\", additional_kwargs={}, response_metadata={}, id='db13fa6e-8481-4724-832b-6f9c7662c4ce'),\n",
       "  HumanMessage(content=\"I'm E\", additional_kwargs={}, response_metadata={}, id='db9b2f2d-fa06-4cd9-a8e6-f9b3f8bd0f0f')],\n",
       " 'which': 'cd'}"
      ]
     },
     "execution_count": 31,
     "metadata": {},
     "output_type": "execute_result"
    }
   ],
   "source": [
    "graph.invoke({\"aggregate\": [], \"which\": \"cd\"})\n"
   ]
  },
  {
   "cell_type": "markdown",
   "metadata": {},
   "source": [
    "### reliability condition"
   ]
  },
  {
   "cell_type": "code",
   "execution_count": 33,
   "metadata": {},
   "outputs": [
    {
     "data": {
      "image/png": "[encoded data removed]",
      "text/plain": [
       "<IPython.core.display.Image object>"
      ]
     },
     "metadata": {},
     "output_type": "display_data"
    }
   ],
   "source": [
    "def reduce_fanouts(left, right):\n",
    "    if left is None:\n",
    "        left = []\n",
    "    if not right:\n",
    "        return []\n",
    "    return left + right\n",
    "\n",
    "\n",
    "class State(TypedDict):\n",
    "    aggregate: Annotated[list, add_messages]\n",
    "    fanout_values: Annotated[list, reduce_fanouts]\n",
    "    which: str\n",
    "\n",
    "\n",
    "class ReturnNodeValue:\n",
    "    def __init__(self, node_secret: str):\n",
    "        self._value = node_secret\n",
    "    \n",
    "    def __call__(self, state: State) -> Any:\n",
    "        print(f\"Adding {self._value} to {state['aggregate']}\")\n",
    "        return {\"aggregate\": [self._value]}\n",
    "\n",
    "\n",
    "class ParallelReturnNodeValue:\n",
    "    def __init__(\n",
    "        self,\n",
    "        node_secret: str,\n",
    "        reliability: float,\n",
    "    ):\n",
    "        self._value = node_secret\n",
    "        self._reliability = reliability\n",
    "\n",
    "    def __call__(self, state: State) -> Any:\n",
    "        print(f\"Adding {self._value} to {state['aggregate']} in parallel.\")\n",
    "        # e에서 신뢰도에 따라 정렬할 거라서 여기서 aggregate는 반환 안함;;\n",
    "        return {\n",
    "            \"fanout_values\": [\n",
    "                {\n",
    "                    \"value\": [self._value],\n",
    "                    \"reliability\": self._reliability,\n",
    "                }\n",
    "            ]\n",
    "        }\n",
    "\n",
    "builder = StateGraph(State)\n",
    "builder.add_node(\"a\", ReturnNodeValue(\"I'm A\"))\n",
    "builder.add_edge(START, \"a\")\n",
    "\n",
    "builder.add_node(\"b\", ParallelReturnNodeValue(\"I'm B\", reliability=0.1))\n",
    "builder.add_node(\"c\", ParallelReturnNodeValue(\"I'm C\", reliability=0.9))\n",
    "builder.add_node(\"d\", ParallelReturnNodeValue(\"I'm D\", reliability=0.5))\n",
    "\n",
    "\n",
    "def aggregate_fanout_values(state: State) -> Any:\n",
    "    ranked_values = sorted(\n",
    "        state[\"fanout_values\"], key=lambda x: x[\"reliability\"], reverse=True\n",
    "    )\n",
    "    print(ranked_values)\n",
    "    return {\n",
    "        \"aggregate\": [x[\"value\"][0] for x in ranked_values] + [\"I'm E\"],\n",
    "        \"fanout_values\": [],\n",
    "    }\n",
    "\n",
    "\n",
    "# 집계 노드 추가\n",
    "builder.add_node(\"e\", aggregate_fanout_values)\n",
    "\n",
    "\n",
    "# 상태에 따른 조건부 라우팅 로직 구현\n",
    "def route_bc_or_cd(state: State) -> Sequence[str]:\n",
    "    if state[\"which\"] == \"cd\":\n",
    "        return [\"c\", \"d\"]\n",
    "    return [\"b\", \"c\"]\n",
    "\n",
    "\n",
    "# 중간 노드들 설정 및 조건부 엣지 추가\n",
    "intermediates = [\"b\", \"c\", \"d\"]\n",
    "builder.add_conditional_edges(\"a\", route_bc_or_cd, intermediates, then=\"e\")\n",
    "\n",
    "graph = builder.compile()\n",
    "\n",
    "display(Image(graph.get_graph(xray=True).draw_mermaid_png()))\n"
   ]
  },
  {
   "cell_type": "code",
   "execution_count": 34,
   "metadata": {},
   "outputs": [
    {
     "name": "stdout",
     "output_type": "stream",
     "text": [
      "Adding I'm A to []\n",
      "Adding I'm B to [HumanMessage(content=\"I'm A\", additional_kwargs={}, response_metadata={}, id='024d78e6-151e-4b39-8cb6-851a3424b356')] in parallel.\n",
      "Adding I'm C to [HumanMessage(content=\"I'm A\", additional_kwargs={}, response_metadata={}, id='024d78e6-151e-4b39-8cb6-851a3424b356')] in parallel.\n",
      "[{'value': [\"I'm C\"], 'reliability': 0.9}, {'value': [\"I'm B\"], 'reliability': 0.1}]\n"
     ]
    },
    {
     "data": {
      "text/plain": [
       "{'aggregate': [HumanMessage(content=\"I'm A\", additional_kwargs={}, response_metadata={}, id='024d78e6-151e-4b39-8cb6-851a3424b356'),\n",
       "  HumanMessage(content=\"I'm C\", additional_kwargs={}, response_metadata={}, id='4686dbfb-a7d1-4c7a-9c8a-e29373c8a699'),\n",
       "  HumanMessage(content=\"I'm B\", additional_kwargs={}, response_metadata={}, id='354fdf74-cd7d-4ebc-9e9a-c4a37a9b83ce'),\n",
       "  HumanMessage(content=\"I'm E\", additional_kwargs={}, response_metadata={}, id='51acb8f9-5262-423e-aa1a-9c1b1b5adbdc')],\n",
       " 'fanout_values': [],\n",
       " 'which': 'bc'}"
      ]
     },
     "execution_count": 34,
     "metadata": {},
     "output_type": "execute_result"
    }
   ],
   "source": [
    "graph.invoke({\"aggregate\": [], \"which\": \"bc\", \"fanout_values\": []})\n"
   ]
  },
  {
   "cell_type": "code",
   "execution_count": 36,
   "metadata": {},
   "outputs": [
    {
     "name": "stdout",
     "output_type": "stream",
     "text": [
      "Adding I'm A to []\n",
      "Adding I'm C to [HumanMessage(content=\"I'm A\", additional_kwargs={}, response_metadata={}, id='b1bcefeb-10ed-4e68-b68c-4608279b817e')] in parallel.\n",
      "Adding I'm D to [HumanMessage(content=\"I'm A\", additional_kwargs={}, response_metadata={}, id='b1bcefeb-10ed-4e68-b68c-4608279b817e')] in parallel.\n",
      "[{'value': [\"I'm C\"], 'reliability': 0.9}, {'value': [\"I'm D\"], 'reliability': 0.5}]\n"
     ]
    },
    {
     "data": {
      "text/plain": [
       "{'aggregate': [HumanMessage(content=\"I'm A\", additional_kwargs={}, response_metadata={}, id='b1bcefeb-10ed-4e68-b68c-4608279b817e'),\n",
       "  HumanMessage(content=\"I'm C\", additional_kwargs={}, response_metadata={}, id='3c721aee-7579-46cf-9c8a-828def1f2ea5'),\n",
       "  HumanMessage(content=\"I'm D\", additional_kwargs={}, response_metadata={}, id='27a72aba-af70-4744-be7e-f7fdcc3d9354'),\n",
       "  HumanMessage(content=\"I'm E\", additional_kwargs={}, response_metadata={}, id='ca04415d-8417-453d-8461-255e732da32a')],\n",
       " 'fanout_values': [],\n",
       " 'which': 'cd'}"
      ]
     },
     "execution_count": 36,
     "metadata": {},
     "output_type": "execute_result"
    }
   ],
   "source": [
    "graph.invoke({\"which\": \"cd\"})\n"
   ]
  },
  {
   "cell_type": "code",
   "execution_count": null,
   "metadata": {},
   "outputs": [],
   "source": []
  }
 ],
 "metadata": {
  "kernelspec": {
   "display_name": "agent",
   "language": "python",
   "name": "python3"
  },
  "language_info": {
   "codemirror_mode": {
    "name": "ipython",
    "version": 3
   },
   "file_extension": ".py",
   "mimetype": "text/x-python",
   "name": "python",
   "nbconvert_exporter": "python",
   "pygments_lexer": "ipython3",
   "version": "3.11.10"
  }
 },
 "nbformat": 4,
 "nbformat_minor": 2
}
