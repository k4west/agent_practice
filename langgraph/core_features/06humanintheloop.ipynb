{
 "cells": [
  {
   "cell_type": "code",
   "execution_count": 1,
   "metadata": {},
   "outputs": [
    {
     "data": {
      "image/png": "[encoded data removed]",
      "text/plain": [
       "<IPython.core.display.Image object>"
      ]
     },
     "metadata": {},
     "output_type": "display_data"
    }
   ],
   "source": [
    "from dotenv import load_dotenv\n",
    "from typing import Annotated, List, Dict\n",
    "from typing_extensions import TypedDict\n",
    "from langchain_core.tools import tool\n",
    "from langchain_openai import ChatOpenAI\n",
    "from langgraph.checkpoint.memory import MemorySaver\n",
    "from langgraph.graph import StateGraph, START, END\n",
    "from langgraph.graph.message import add_messages\n",
    "from langgraph.prebuilt import ToolNode, tools_condition\n",
    "from IPython.display import Image, display\n",
    "\n",
    "import sys\n",
    "sys.path.append('../..')\n",
    "from agent_tools.custom_tools import search_news\n",
    "\n",
    "\n",
    "class State(TypedDict):\n",
    "    messages: Annotated[List, add_messages]\n",
    "\n",
    "\n",
    "@tool\n",
    "def search_keyword(query:str) -> List[Dict[str, str]]:\n",
    "    \"\"\"Look up news by keyword\"\"\"\n",
    "    return [\n",
    "        {\n",
    "            \"url\": news[\"link\"], \n",
    "            \"content\": news[\"content\"]\n",
    "        } for news in search_news(query)[:5]\n",
    "    ]\n",
    "\n",
    "\n",
    "load_dotenv()\n",
    "tools = [search_keyword]\n",
    "llm = ChatOpenAI(model='gpt-4o-mini')\n",
    "llm_with_tools = llm.bind_tools(tools)\n",
    "\n",
    "\n",
    "def chatbot(state: State):\n",
    "    return {\n",
    "        \"messages\": [llm_with_tools.invoke(state[\"messages\"])],\n",
    "        \"dummy_data\": \"[chatbot] 호출, dummy data\"\n",
    "    }\n",
    "\n",
    "\n",
    "graph_builder = StateGraph(State)\n",
    "graph_builder.add_node(\"chatbot\", chatbot)\n",
    "tool_node = ToolNode(tools=tools)\n",
    "graph_builder.add_node(\"tools\", tool_node)\n",
    "graph_builder.add_conditional_edges(\n",
    "    \"chatbot\",\n",
    "    tools_condition\n",
    ")\n",
    "graph_builder.add_edge(START, \"chatbot\")\n",
    "graph_builder.add_edge(\"tools\", \"chatbot\")\n",
    "graph_builder.add_edge(\"chatbot\", END)\n",
    "\n",
    "memory = MemorySaver()\n",
    "graph = graph_builder.compile(checkpointer=memory)\n",
    "\n",
    "display(Image(graph.get_graph(xray=True).draw_mermaid_png()))\n"
   ]
  },
  {
   "cell_type": "code",
   "execution_count": 2,
   "metadata": {},
   "outputs": [
    {
     "name": "stdout",
     "output_type": "stream",
     "text": [
      "\n",
      "[messages]\n",
      "\n",
      "[HumanMessage(content='한국 관련 최신 뉴스를 알려주세요. 외국인이 좋아할만한 주제에서 찾아주세요.', additional_kwargs={}, response_metadata={}, id='aa860667-cc30-4efb-ba86-a58c20fed1ba')]\n",
      "\n",
      "[messages]\n",
      "\n",
      "[HumanMessage(content='한국 관련 최신 뉴스를 알려주세요. 외국인이 좋아할만한 주제에서 찾아주세요.', additional_kwargs={}, response_metadata={}, id='aa860667-cc30-4efb-ba86-a58c20fed1ba'), AIMessage(content='', additional_kwargs={'tool_calls': [{'id': 'call_uhQMEodM1Gp80gXdkY3BpT4v', 'function': {'arguments': '{\"query\":\"Korea\"}', 'name': 'search_keyword'}, 'type': 'function'}], 'refusal': None}, response_metadata={'token_usage': {'completion_tokens': 16, 'prompt_tokens': 64, 'total_tokens': 80, 'completion_tokens_details': {'accepted_prediction_tokens': 0, 'audio_tokens': 0, 'reasoning_tokens': 0, 'rejected_prediction_tokens': 0}, 'prompt_tokens_details': {'audio_tokens': 0, 'cached_tokens': 0}}, 'model_name': 'gpt-4o-mini-2024-07-18', 'system_fingerprint': 'fp_72ed7ab54c', 'finish_reason': 'tool_calls', 'logprobs': None}, id='run-c761a7e5-803b-43f8-8876-1aec6685e5ea-0', tool_calls=[{'name': 'search_keyword', 'args': {'query': 'Korea'}, 'id': 'call_uhQMEodM1Gp80gXdkY3BpT4v', 'type': 'tool_call'}], usage_metadata={'input_tokens': 64, 'output_tokens': 16, 'total_tokens': 80, 'input_token_details': {'audio': 0, 'cache_read': 0}, 'output_token_details': {'audio': 0, 'reasoning': 0}})]\n"
     ]
    }
   ],
   "source": [
    "from langchain_core.runnables import RunnableConfig\n",
    "\n",
    "question = \"한국 관련 최신 뉴스를 알려주세요. 외국인이 좋아할만한 주제에서 찾아주세요.\"\n",
    "input = State(messages=[(\"user\", question)])\n",
    "config = RunnableConfig(\n",
    "    recursion_limit=10,  # 최대 10개의 노드까지 방문. 그 이상은 RecursionError 발생\n",
    "    configurable={\"thread_id\": \"1\"},  # 스레드 ID 설정\n",
    "    tags=[\"my-rag\"],  # Tag\n",
    ")\n",
    "\n",
    "for event in graph.stream(\n",
    "    input=input,\n",
    "    config=config,\n",
    "    stream_mode=\"values\",\n",
    "    interrupt_before=[\"tools\"],  # tools 실행 전 interrupt(tools 노드 실행 전 중단)\n",
    "):\n",
    "    for key, value in event.items():\n",
    "        # key 는 노드 이름\n",
    "        print(f\"\\n[{key}]\\n\")\n",
    "\n",
    "        # value 는 노드의 출력값\n",
    "        print(value)\n",
    "\n",
    "        # value 에는 state 가 dict 형태로 저장(values 의 key 값)\n",
    "        if \"messages\" in value:\n",
    "            print(f\"메시지 개수: {len(value['messages'])}\")"
   ]
  },
  {
   "cell_type": "code",
   "execution_count": 3,
   "metadata": {},
   "outputs": [
    {
     "data": {
      "text/plain": [
       "('tools',)"
      ]
     },
     "execution_count": 3,
     "metadata": {},
     "output_type": "execute_result"
    }
   ],
   "source": [
    "# 그래프 상태 스냅샷 생성\n",
    "snapshot = graph.get_state(config)\n",
    "\n",
    "# 다음 스냅샷 상태\n",
    "snapshot.next\n"
   ]
  },
  {
   "cell_type": "code",
   "execution_count": 4,
   "metadata": {},
   "outputs": [
    {
     "name": "stdout",
     "output_type": "stream",
     "text": [
      "[{'name': 'search_keyword', 'args': {'query': 'Korea'}, 'id': 'call_uhQMEodM1Gp80gXdkY3BpT4v', 'type': 'tool_call'}]\n"
     ]
    }
   ],
   "source": [
    "existing_message = snapshot.values[\"messages\"][-1]\n",
    "print(existing_message.tool_calls)"
   ]
  },
  {
   "cell_type": "code",
   "execution_count": 5,
   "metadata": {},
   "outputs": [
    {
     "name": "stdout",
     "output_type": "stream",
     "text": [
      "==================================\u001b[1m Ai Message \u001b[0m==================================\n",
      "Tool Calls:\n",
      "  search_keyword (call_uhQMEodM1Gp80gXdkY3BpT4v)\n",
      " Call ID: call_uhQMEodM1Gp80gXdkY3BpT4v\n",
      "  Args:\n",
      "    query: Korea\n"
     ]
    },
    {
     "name": "stderr",
     "output_type": "stream",
     "text": [
      "C:\\Users\\kwest\\AppData\\Local\\Temp\\ipykernel_16832\\582841012.py:28: LangChainDeprecationWarning: The method `BaseTool.__call__` was deprecated in langchain-core 0.1.47 and will be removed in 1.0. Use :meth:`~invoke` instead.\n",
      "  } for news in search_news(query)[:5]\n"
     ]
    },
    {
     "name": "stdout",
     "output_type": "stream",
     "text": [
      "=================================\u001b[1m Tool Message \u001b[0m=================================\n",
      "Name: search_keyword\n",
      "\n",
      "[{\"url\": \"https://n.news.naver.com/mnews/article/018/0005926843?sid=101\", \"content\": \"한국맥도날드, RMHC Korea에 역대 최대 기부금 8.1억원 전달\"}, {\"url\": \"https://n.news.naver.com/mnews/article/001/0015164796?sid=104\", \"content\": \"(LEAD) N. Korea warns of taking action 'more intensively' over S. Korea, U.S., Japan's air drills\"}, {\"url\": \"https://n.news.naver.com/mnews/article/001/0015164568?sid=104\", \"content\": \"(EDITORIAL from Korea JoongAng Daily on Jan. 17)\"}, {\"url\": \"https://n.news.naver.com/mnews/article/001/0015164567?sid=104\", \"content\": \"(EDITORIAL from Korea Times on Jan. 17)\"}, {\"url\": \"https://n.news.naver.com/mnews/article/001/0015163972?sid=104\", \"content\": \"S. Korea stresses N.K. denuclearization 'unanimous goal' after Rubio remarks\"}]\n",
      "==================================\u001b[1m Ai Message \u001b[0m==================================\n",
      "Tool Calls:\n",
      "  search_keyword (call_NlsVLsbeXSLOoxFlNcHywLnv)\n",
      " Call ID: call_NlsVLsbeXSLOoxFlNcHywLnv\n",
      "  Args:\n",
      "    query: Korea culture\n",
      "=================================\u001b[1m Tool Message \u001b[0m=================================\n",
      "Name: search_keyword\n",
      "\n",
      "[{\"url\": \"https://n.news.naver.com/mnews/article/001/0015164568?sid=104\", \"content\": \"(EDITORIAL from Korea JoongAng Daily on Jan. 17)\"}, {\"url\": \"https://n.news.naver.com/mnews/article/044/0000265677?sid=104\", \"content\": \"Korea Grand Sale kicks off in largest-ever scale\"}, {\"url\": \"article/\", \"content\": \"Korea Grand Sale returns with record shopping, travel benefits\"}, {\"url\": \"article/\", \"content\": \"Chinese ambassador calls for strengthened Korea-China ties\"}, {\"url\": \"article/\", \"content\": \"2025 Korea Image Awards for those who promote S. Korea\"}]\n",
      "==================================\u001b[1m Ai Message \u001b[0m==================================\n",
      "Tool Calls:\n",
      "  search_keyword (call_31C5f03I3XRYRG7JQn4zKK9S)\n",
      " Call ID: call_31C5f03I3XRYRG7JQn4zKK9S\n",
      "  Args:\n",
      "    query: Korea tourism\n",
      "=================================\u001b[1m Tool Message \u001b[0m=================================\n",
      "Name: search_keyword\n",
      "\n",
      "[{\"url\": \"https://n.news.naver.com/mnews/article/001/0015165144?sid=104\", \"content\": \"Travel agency announces reopening of tourism to N. Korea's Rason for foreigners\"}, {\"url\": \"article/\", \"content\": \"Korea Grand Sale returns with record shopping, travel benefits\"}, {\"url\": \"article/\", \"content\": \"Korea-China tourism night event highlights surge in visa-free travel\"}, {\"url\": \"https://n.news.naver.com/mnews/article/044/0000265677?sid=104\", \"content\": \"Korea Grand Sale kicks off in largest-ever scale\"}, {\"url\": \"article/\", \"content\": \"김해시 송둘순 관광과장, 한국관광공사 표창\"}]\n",
      "==================================\u001b[1m Ai Message \u001b[0m==================================\n",
      "Tool Calls:\n",
      "  search_keyword (call_vot45SVcJmvcg8A6kv1KaCqw)\n",
      " Call ID: call_vot45SVcJmvcg8A6kv1KaCqw\n",
      "  Args:\n",
      "    query: Korea food\n",
      "  search_keyword (call_KqxmBbBvnvsNREKEPlDX0E5T)\n",
      " Call ID: call_KqxmBbBvnvsNREKEPlDX0E5T\n",
      "  Args:\n",
      "    query: Korea entertainment\n",
      "=================================\u001b[1m Tool Message \u001b[0m=================================\n",
      "Name: search_keyword\n",
      "\n",
      "[{\"url\": \"https://n.news.naver.com/mnews/article/001/0015162998?sid=104\", \"content\": \"BYD officially launches in S. Korea with aggressive pricing for Atto 3 EV\"}, {\"url\": \"https://n.news.naver.com/mnews/article/001/0015160518?sid=104\", \"content\": \"S. Korea to bolster efforts to enhance IP protection of K-content\"}, {\"url\": \"https://n.news.naver.com/mnews/article/009/0005429946?sid=104\", \"content\": \"Webtoon Entertainment invests in Japanese studio for expansion\"}, {\"url\": \"article/\", \"content\": \"SM's British Boy Group dearALICE to Pre-Release Debut Track in Korea–A New Direction for K-pop?\"}, {\"url\": \"https://n.news.naver.com/mnews/article/044/0000265609?sid=104\", \"content\": \"[Exclusive] SM Entertainment will debut new boy band in second half of this year: source\"}]\n",
      "==================================\u001b[1m Ai Message \u001b[0m==================================\n",
      "\n",
      "여기 외국인이 흥미로워할만한 한국 관련 최신 뉴스입니다:\n",
      "\n",
      "### 문화 및 관광\n",
      "1. **Korea Grand Sale 시작**: \"Korea Grand Sale kicks off in largest-ever scale\" - 한국의 대규모 쇼핑 행사인 코리아 그랜드 세일이 역대 최대 규모로 시작되었습니다. [읽기](https://n.news.naver.com/mnews/article/044/0000265677?sid=104)\n",
      "\n",
      "2. **한국 관광 재개**: \"Travel agency announces reopening of tourism to N. Korea's Rason for foreigners\" - 외국인 관광객을 위한 북한 라선 관광이 재개됩니다. [읽기](https://n.news.naver.com/mnews/article/001/0015165144?sid=104)\n",
      "\n",
      "3. **K-콘텐츠 보호 강화**: \"S. Korea to bolster efforts to enhance IP protection of K-content\" - 한국은 K-콘텐츠의 지적 재산권 보호를 강화하기 위한 노력을 기울이고 있습니다. [읽기](https://n.news.naver.com/mnews/article/001/0015160518?sid=104)\n",
      "\n",
      "### 음식\n",
      "1. **한국 음식의 정체성**: \"Chef Edward Lee wins Korea Image Awards, calls Korean food his identity\" - 셰프 에드워드 리가 한국 음식은 그의 정체성을 나타낸다고 말하며 한국 이미지 어워드를 수상했습니다. [읽기](article/)\n",
      "\n",
      "### 엔터테인먼트\n",
      "1. **K-pop 새로운 방향**: \"SM's British Boy Group dearALICE to Pre-Release Debut Track in Korea – A New Direction for K-pop?\" - SM 엔터테인먼트의 영국 보이 그룹 dearALICE가 한국에서 데뷔 트랙을 사전 공개할 예정입니다. [읽기](article/)\n",
      "\n",
      "이 뉴스들은 한국의 문화, 음식, 관광, 그리고 엔터테인먼트와 관련된 다양한 주제를 포함하고 있어 외국인들에게 흥미로울 것입니다.\n"
     ]
    }
   ],
   "source": [
    "# `None`는 현재 상태에 아무것도 추가하지 않음\n",
    "events = graph.stream(None, config, stream_mode=\"values\")\n",
    "\n",
    "for event in events:\n",
    "    if \"messages\" in event:\n",
    "        event[\"messages\"][-1].pretty_print()"
   ]
  },
  {
   "cell_type": "code",
   "execution_count": 6,
   "metadata": {},
   "outputs": [
    {
     "name": "stdout",
     "output_type": "stream",
     "text": [
      "메시지 수:  11 다음 노드:  ()\n",
      "--------------------------------------------------------------------------------\n",
      "메시지 수:  10 다음 노드:  ('chatbot',)\n",
      "--------------------------------------------------------------------------------\n",
      "메시지 수:  8 다음 노드:  ('tools',)\n",
      "--------------------------------------------------------------------------------\n",
      "메시지 수:  7 다음 노드:  ('chatbot',)\n",
      "--------------------------------------------------------------------------------\n",
      "메시지 수:  6 다음 노드:  ('tools',)\n",
      "--------------------------------------------------------------------------------\n",
      "메시지 수:  5 다음 노드:  ('chatbot',)\n",
      "--------------------------------------------------------------------------------\n",
      "메시지 수:  4 다음 노드:  ('tools',)\n",
      "--------------------------------------------------------------------------------\n",
      "메시지 수:  3 다음 노드:  ('chatbot',)\n",
      "--------------------------------------------------------------------------------\n",
      "메시지 수:  2 다음 노드:  ('tools',)\n",
      "--------------------------------------------------------------------------------\n",
      "메시지 수:  1 다음 노드:  ('chatbot',)\n",
      "--------------------------------------------------------------------------------\n",
      "메시지 수:  0 다음 노드:  ('__start__',)\n",
      "--------------------------------------------------------------------------------\n"
     ]
    }
   ],
   "source": [
    "to_replay = None\n",
    "\n",
    "# 상태 기록 가져오기\n",
    "for state in graph.get_state_history(config):\n",
    "    # 메시지 수 및 다음 상태 출력\n",
    "    print(\"메시지 수: \", len(state.values[\"messages\"]), \"다음 노드: \", state.next)\n",
    "    print(\"-\" * 80)\n",
    "    # 특정 상태 선택 기준: 채팅 메시지 수\n",
    "    if len(state.values[\"messages\"]) == 3:\n",
    "        to_replay = state\n"
   ]
  },
  {
   "cell_type": "code",
   "execution_count": 7,
   "metadata": {},
   "outputs": [
    {
     "name": "stdout",
     "output_type": "stream",
     "text": [
      "('chatbot',)\n",
      "{'configurable': {'thread_id': '1', 'checkpoint_ns': '', 'checkpoint_id': '1efd48f8-3c88-62ed-8002-4681c887342d'}}\n"
     ]
    }
   ],
   "source": [
    "print(to_replay.next)\n",
    "print(to_replay.config)\n"
   ]
  },
  {
   "cell_type": "code",
   "execution_count": 8,
   "metadata": {},
   "outputs": [
    {
     "name": "stdout",
     "output_type": "stream",
     "text": [
      "=================================\u001b[1m Tool Message \u001b[0m=================================\n",
      "Name: search_keyword\n",
      "\n",
      "[{\"url\": \"https://n.news.naver.com/mnews/article/018/0005926843?sid=101\", \"content\": \"한국맥도날드, RMHC Korea에 역대 최대 기부금 8.1억원 전달\"}, {\"url\": \"https://n.news.naver.com/mnews/article/001/0015164796?sid=104\", \"content\": \"(LEAD) N. Korea warns of taking action 'more intensively' over S. Korea, U.S., Japan's air drills\"}, {\"url\": \"https://n.news.naver.com/mnews/article/001/0015164568?sid=104\", \"content\": \"(EDITORIAL from Korea JoongAng Daily on Jan. 17)\"}, {\"url\": \"https://n.news.naver.com/mnews/article/001/0015164567?sid=104\", \"content\": \"(EDITORIAL from Korea Times on Jan. 17)\"}, {\"url\": \"https://n.news.naver.com/mnews/article/001/0015163972?sid=104\", \"content\": \"S. Korea stresses N.K. denuclearization 'unanimous goal' after Rubio remarks\"}]\n",
      "==================================\u001b[1m Ai Message \u001b[0m==================================\n",
      "\n",
      "다음은 외국인들이 관심 가질 만한 한국 관련 최신 뉴스입니다:\n",
      "\n",
      "1. [한국맥도날드, RMHC Korea에 역대 최대 기부금 8.1억원 전달](https://n.news.naver.com/mnews/article/018/0005926843?sid=101) - 한국맥도날드가 한국의 Ronald McDonald House Charities에 역대 최대 기부금을 전달했습니다.\n",
      "\n",
      "2. [(LEAD) N. Korea warns of taking action 'more intensively' over S. Korea, U.S., Japan's air drills](https://n.news.naver.com/mnews/article/001/0015164796?sid=104) - 북한이 한국, 미국, 일본의 공중 훈련에 대해 더욱 강력한 대응을 경고했습니다.\n",
      "\n",
      "3. [S. Korea stresses N.K. denuclearization 'unanimous goal' after Rubio remarks](https://n.news.naver.com/mnews/article/001/0015163972?sid=104) - 한국은 마르코 루비오의 발언 이후 북한 비핵화가 '모두의 목표'라고 강조했습니다.\n",
      "\n",
      "이 뉴스들은 한국의 사회적 기부 활동 및 국제 관계와 관련된 중요한 이슈를 다루고 있어 외국인들이 관심을 가질 수 있습니다.\n"
     ]
    }
   ],
   "source": [
    "for event in graph.stream(None, to_replay.config, stream_mode=\"values\"):\n",
    "    if \"messages\" in event:\n",
    "        event[\"messages\"][-1].pretty_print()\n"
   ]
  },
  {
   "cell_type": "code",
   "execution_count": null,
   "metadata": {},
   "outputs": [],
   "source": []
  },
  {
   "cell_type": "markdown",
   "metadata": {},
   "source": [
    "여기 외국인이 흥미로워할만한 한국 관련 최신 뉴스입니다:\n",
    "\n",
    "### 문화 및 관광\n",
    "1. **Korea Grand Sale 시작**: \"Korea Grand Sale kicks off in largest-ever scale\" - 한국의 대규모 쇼핑 행사인 코리아 그랜드 세일이 역대 최대 규모로 시작되었습니다. [읽기](https://n.news.naver.com/mnews/article/044/0000265677?sid=104)\n",
    "\n",
    "2. **한국 관광 재개**: \"Travel agency announces reopening of tourism to N. Korea's Rason for foreigners\" - 외국인 관광객을 위한 북한 라선 관광이 재개됩니다. [읽기](https://n.news.naver.com/mnews/article/001/0015165144?sid=104)\n",
    "\n",
    "3. **K-콘텐츠 보호 강화**: \"S. Korea to bolster efforts to enhance IP protection of K-content\" - 한국은 K-콘텐츠의 지적 재산권 보호를 강화하기 위한 노력을 기울이고 있습니다. [읽기](https://n.news.naver.com/mnews/article/001/0015160518?sid=104)\n",
    "\n",
    "### 음식\n",
    "1. **한국 음식의 정체성**: \"Chef Edward Lee wins Korea Image Awards, calls Korean food his identity\" - 셰프 에드워드 리가 한국 음식은 그의 정체성을 나타낸다고 말하며 한국 이미지 어워드를 수상했습니다. [읽기](article/)\n",
    "\n",
    "### 엔터테인먼트\n",
    "1. **K-pop 새로운 방향**: \"SM's British Boy Group dearALICE to Pre-Release Debut Track in Korea – A New Direction for K-pop?\" - SM 엔터테인먼트의 영국 보이 그룹 dearALICE가 한국에서 데뷔 트랙을 사전 공개할 예정입니다. [읽기](article/)\n",
    "\n",
    "이 뉴스들은 한국의 문화, 음식, 관광, 그리고 엔터테인먼트와 관련된 다양한 주제를 포함하고 있어 외국인들에게 흥미로울 것입니다."
   ]
  }
 ],
 "metadata": {
  "kernelspec": {
   "display_name": "agent",
   "language": "python",
   "name": "python3"
  },
  "language_info": {
   "codemirror_mode": {
    "name": "ipython",
    "version": 3
   },
   "file_extension": ".py",
   "mimetype": "text/x-python",
   "name": "python",
   "nbconvert_exporter": "python",
   "pygments_lexer": "ipython3",
   "version": "3.11.10"
  }
 },
 "nbformat": 4,
 "nbformat_minor": 2
}
