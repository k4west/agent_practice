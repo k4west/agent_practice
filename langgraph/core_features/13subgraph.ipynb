{
 "cells": [
  {
   "cell_type": "code",
   "execution_count": null,
   "metadata": {},
   "outputs": [],
   "source": [
    "from typing import TypedDict\n",
    "from langgraph.graph import StateGraph, START, END\n",
    "from IPython.display import Image, display\n"
   ]
  },
  {
   "cell_type": "markdown",
   "metadata": {},
   "source": [
    "### 스키마 키 공유 Case"
   ]
  },
  {
   "cell_type": "code",
   "execution_count": 1,
   "metadata": {},
   "outputs": [
    {
     "data": {
      "image/png": "[encoded data removed]",
      "text/plain": [
       "<IPython.core.display.Image object>"
      ]
     },
     "metadata": {},
     "output_type": "display_data"
    }
   ],
   "source": [
    "class ChildState(TypedDict):\n",
    "    name: str\n",
    "    family_name: str\n",
    "\n",
    "\n",
    "def subgraph_node1(state: ChildState):\n",
    "    return {\"family_name\": \"Kim\"}\n",
    "\n",
    "\n",
    "def subgraph_node2(state: ChildState):\n",
    "    return {\"name\": f'{state[\"name\"]} {state[\"family_name\"]}'}\n",
    "\n",
    "\n",
    "subgraph_builder = StateGraph(ChildState)\n",
    "subgraph_builder.add_node(subgraph_node1)\n",
    "subgraph_builder.add_node(subgraph_node2)\n",
    "subgraph_builder.add_edge(START, \"subgraph_node1\")\n",
    "subgraph_builder.add_edge(\"subgraph_node1\", \"subgraph_node2\")\n",
    "subgraph = subgraph_builder.compile()\n",
    "\n",
    "display(Image(subgraph.get_graph(xray=True).draw_mermaid_png()))\n"
   ]
  },
  {
   "cell_type": "code",
   "execution_count": 3,
   "metadata": {},
   "outputs": [
    {
     "data": {
      "image/png": "[encoded data removed]",
      "text/plain": [
       "<IPython.core.display.Image object>"
      ]
     },
     "metadata": {},
     "output_type": "display_data"
    }
   ],
   "source": [
    "class ParentState(TypedDict):\n",
    "    name: str\n",
    "    company: str\n",
    "\n",
    "\n",
    "def node_1(state: ParentState):\n",
    "    return {\"name\": f'My name is {state[\"name\"]}'}\n",
    "\n",
    "\n",
    "builder = StateGraph(ChildState)\n",
    "builder.add_node(node_1)\n",
    "builder.add_node(\"node_2\", subgraph)\n",
    "builder.add_edge(START, \"node_1\")\n",
    "builder.add_edge(\"node_1\", \"node_2\")\n",
    "builder.add_edge(\"node_2\", END)\n",
    "graph = builder.compile()\n",
    "\n",
    "display(Image(graph.get_graph(xray=True).draw_mermaid_png()))\n"
   ]
  },
  {
   "cell_type": "code",
   "execution_count": 4,
   "metadata": {},
   "outputs": [
    {
     "name": "stdout",
     "output_type": "stream",
     "text": [
      "{'node_1': {'name': 'My name is Joseph'}}\n",
      "{'node_2': {'name': 'My name is Joseph Kim', 'family_name': 'Kim'}}\n"
     ]
    }
   ],
   "source": [
    "for chunk in graph.stream({\"name\": \"Joseph\"}):\n",
    "    print(chunk)"
   ]
  },
  {
   "cell_type": "code",
   "execution_count": 6,
   "metadata": {},
   "outputs": [
    {
     "name": "stdout",
     "output_type": "stream",
     "text": [
      "((), {'node_1': {'name': 'My name is Joseph'}})\n",
      "(('node_2:e2aac2f4-9bbe-3f15-4d7b-e3efcaac1b12',), {'subgraph_node1': {'family_name': 'Kim'}})\n",
      "(('node_2:e2aac2f4-9bbe-3f15-4d7b-e3efcaac1b12',), {'subgraph_node2': {'name': 'My name is Joseph Kim'}})\n",
      "((), {'node_2': {'name': 'My name is Joseph Kim', 'family_name': 'Kim'}})\n"
     ]
    }
   ],
   "source": [
    "for chunk in graph.stream({\"name\": \"Joseph\"}, subgraphs=True):\n",
    "    print(chunk)"
   ]
  },
  {
   "cell_type": "markdown",
   "metadata": {},
   "source": [
    "### 스키마 키 공유 x Case"
   ]
  },
  {
   "cell_type": "code",
   "execution_count": 7,
   "metadata": {},
   "outputs": [
    {
     "data": {
      "image/png": "[encoded data removed]",
      "text/plain": [
       "<IPython.core.display.Image object>"
      ]
     },
     "metadata": {},
     "output_type": "display_data"
    }
   ],
   "source": [
    "class ChildState(TypedDict):\n",
    "    name: str\n",
    "\n",
    "\n",
    "def subgraph_node_1(state: ChildState):\n",
    "    return {\"name\": \"Joseph \" + state[\"name\"]}\n",
    "\n",
    "\n",
    "def subgraph_node_2(state: ChildState):\n",
    "    return {\"name\": f'My name is {state[\"name\"]}'}\n",
    "\n",
    "\n",
    "subgraph_builder = StateGraph(ChildState)\n",
    "subgraph_builder.add_node(subgraph_node_1)\n",
    "subgraph_builder.add_node(subgraph_node_2)\n",
    "subgraph_builder.add_edge(START, \"subgraph_node_1\")\n",
    "subgraph_builder.add_edge(\"subgraph_node_1\", \"subgraph_node_2\")\n",
    "subgraph = subgraph_builder.compile()\n",
    "\n",
    "\n",
    "class ParentState(TypedDict):\n",
    "    family_name: str\n",
    "    full_name: str\n",
    "\n",
    "\n",
    "def node_1(state: ParentState):\n",
    "    return {\"family_name\": state[\"family_name\"]}\n",
    "\n",
    "\n",
    "def node_2(state: ParentState):\n",
    "    response = subgraph.invoke({\"name\": state[\"family_name\"]})\n",
    "    return {\"full_name\": response[\"name\"]}\n",
    "\n",
    "\n",
    "builder = StateGraph(ParentState)\n",
    "builder.add_node(\"node_1\", node_1)\n",
    "builder.add_node(\"node_2\", node_2)\n",
    "builder.add_edge(START, \"node_1\")\n",
    "builder.add_edge(\"node_1\", \"node_2\")\n",
    "builder.add_edge(\"node_2\", END)\n",
    "graph = builder.compile()\n",
    "\n",
    "display(Image(graph.get_graph(xray=True).draw_mermaid_png()))\n"
   ]
  },
  {
   "cell_type": "code",
   "execution_count": 8,
   "metadata": {},
   "outputs": [
    {
     "name": "stdout",
     "output_type": "stream",
     "text": [
      "((), {'node_1': {'family_name': 'Kim'}})\n",
      "(('node_2:dfe219ec-3278-dc6c-4de7-c8ca3f12d15c',), {'subgraph_node_1': {'name': 'Joseph Kim'}})\n",
      "(('node_2:dfe219ec-3278-dc6c-4de7-c8ca3f12d15c',), {'subgraph_node_2': {'name': 'My name is Joseph Kim'}})\n",
      "((), {'node_2': {'full_name': 'My name is Joseph Kim'}})\n"
     ]
    }
   ],
   "source": [
    "for chunk in graph.stream({\"family_name\": \"Kim\"}, subgraphs=True):\n",
    "    print(chunk)\n"
   ]
  },
  {
   "cell_type": "markdown",
   "metadata": {},
   "source": [
    "### 중복 상태 키 x"
   ]
  },
  {
   "cell_type": "markdown",
   "metadata": {},
   "source": [
    "#### GrandChild"
   ]
  },
  {
   "cell_type": "code",
   "execution_count": 9,
   "metadata": {},
   "outputs": [
    {
     "data": {
      "image/png": "[encoded data removed]",
      "text/plain": [
       "<IPython.core.display.Image object>"
      ]
     },
     "metadata": {},
     "output_type": "display_data"
    }
   ],
   "source": [
    "class GrandChildState(TypedDict):\n",
    "    my_grandchild_key: str\n",
    "\n",
    "\n",
    "def grandchild_1(state: GrandChildState) -> GrandChildState:\n",
    "    return {\"my_grandchild_key\": f'([GrandChild] {state[\"my_grandchild_key\"]})'}\n",
    "\n",
    "\n",
    "grandchild = StateGraph(GrandChildState)\n",
    "grandchild.add_node(\"grandchild_1\", grandchild_1)\n",
    "grandchild.add_edge(START, \"grandchild_1\")\n",
    "grandchild.add_edge(\"grandchild_1\", END)\n",
    "grandchild_graph = grandchild.compile()\n",
    "\n",
    "display(Image(grandchild_graph.get_graph(xray=True).draw_mermaid_png()))\n"
   ]
  },
  {
   "cell_type": "code",
   "execution_count": 10,
   "metadata": {},
   "outputs": [
    {
     "name": "stdout",
     "output_type": "stream",
     "text": [
      "((), {'grandchild_1': {'my_grandchild_key': '([GrandChild] Hi, Joseph!)'}})\n"
     ]
    }
   ],
   "source": [
    "for chunk in grandchild_graph.stream(\n",
    "    {\"my_grandchild_key\": \"Hi, Joseph!\"}, subgraphs=True\n",
    "):\n",
    "    print(chunk)"
   ]
  },
  {
   "cell_type": "markdown",
   "metadata": {},
   "source": [
    "#### Child"
   ]
  },
  {
   "cell_type": "code",
   "execution_count": 11,
   "metadata": {},
   "outputs": [
    {
     "data": {
      "image/png": "[encoded data removed]",
      "text/plain": [
       "<IPython.core.display.Image object>"
      ]
     },
     "metadata": {},
     "output_type": "display_data"
    }
   ],
   "source": [
    "class ChildState(TypedDict):\n",
    "    my_child_key: str\n",
    "\n",
    "\n",
    "def call_grandchild_graph(state: ChildState) -> ChildState:\n",
    "    grandchild_graph_input = {\"my_grandchild_key\": state[\"my_child_key\"]}\n",
    "    grandchild_graph_output = grandchild_graph.invoke(grandchild_graph_input)\n",
    "    return {\"my_child_key\": f'([Child] {grandchild_graph_output[\"my_grandchild_key\"]})'}\n",
    "\n",
    "\n",
    "child = StateGraph(ChildState)\n",
    "child.add_node(\"child_1\", call_grandchild_graph)\n",
    "child.add_edge(START, \"child_1\")\n",
    "child.add_edge(\"child_1\", END)\n",
    "child_graph = child.compile()\n",
    "\n",
    "display(Image(child_graph.get_graph(xray=True).draw_mermaid_png()))\n"
   ]
  },
  {
   "cell_type": "code",
   "execution_count": 12,
   "metadata": {},
   "outputs": [
    {
     "name": "stdout",
     "output_type": "stream",
     "text": [
      "(('child_1:75ef6683-0251-01b9-a6f3-bd9c1123d165',), {'grandchild_1': {'my_grandchild_key': '([GrandChild] Hi, Joseph!)'}})\n",
      "((), {'child_1': {'my_child_key': '([Child] ([GrandChild] Hi, Joseph!))'}})\n"
     ]
    }
   ],
   "source": [
    "for chunk in child_graph.stream({\"my_child_key\": \"Hi, Joseph!\"}, subgraphs=True):\n",
    "    print(chunk)"
   ]
  },
  {
   "cell_type": "markdown",
   "metadata": {},
   "source": [
    "#### Parent"
   ]
  },
  {
   "cell_type": "code",
   "execution_count": 13,
   "metadata": {},
   "outputs": [
    {
     "data": {
      "image/png": "[encoded data removed]",
      "text/plain": [
       "<IPython.core.display.Image object>"
      ]
     },
     "metadata": {},
     "output_type": "display_data"
    }
   ],
   "source": [
    "class ParentState(TypedDict):\n",
    "    my_parent_key: str\n",
    "\n",
    "\n",
    "def parent_1(state: ParentState) -> ParentState:\n",
    "    return {\"my_parent_key\": f'([Parent1] {state[\"my_parent_key\"]})'}\n",
    "\n",
    "\n",
    "def parent_2(state: ParentState) -> ParentState:\n",
    "    return {\"my_parent_key\": f'([Parent2] {state[\"my_parent_key\"]})'}\n",
    "\n",
    "\n",
    "def call_child_graph(state: ParentState) -> ParentState:\n",
    "    child_graph_input = {\"my_child_key\": state[\"my_parent_key\"]}\n",
    "    child_graph_output = child_graph.invoke(child_graph_input)\n",
    "    return {\"my_parent_key\": child_graph_output[\"my_child_key\"]}\n",
    "\n",
    "\n",
    "parent = StateGraph(ParentState)\n",
    "parent.add_node(\"parent_1\", parent_1)\n",
    "parent.add_node(\"child\", call_child_graph)\n",
    "parent.add_node(\"parent_2\", parent_2)\n",
    "parent.add_edge(START, \"parent_1\")\n",
    "parent.add_edge(\"parent_1\", \"child\")\n",
    "parent.add_edge(\"child\", \"parent_2\")\n",
    "parent.add_edge(\"parent_2\", END)\n",
    "parent_graph = parent.compile()\n",
    "\n",
    "display(Image(parent_graph.get_graph(xray=True).draw_mermaid_png()))\n"
   ]
  },
  {
   "cell_type": "code",
   "execution_count": 14,
   "metadata": {},
   "outputs": [
    {
     "name": "stdout",
     "output_type": "stream",
     "text": [
      "((), {'parent_1': {'my_parent_key': '([Parent1] Hi, Joseph!)'}})\n",
      "(('child:9930a6b8-74cc-9cc2-c81b-19bde829b030', 'child_1:00181041-2af4-e313-f9b5-f2320709ea8e'), {'grandchild_1': {'my_grandchild_key': '([GrandChild] ([Parent1] Hi, Joseph!))'}})\n",
      "(('child:9930a6b8-74cc-9cc2-c81b-19bde829b030',), {'child_1': {'my_child_key': '([Child] ([GrandChild] ([Parent1] Hi, Joseph!)))'}})\n",
      "((), {'child': {'my_parent_key': '([Child] ([GrandChild] ([Parent1] Hi, Joseph!)))'}})\n",
      "((), {'parent_2': {'my_parent_key': '([Parent2] ([Child] ([GrandChild] ([Parent1] Hi, Joseph!))))'}})\n"
     ]
    }
   ],
   "source": [
    "for chunk in parent_graph.stream({\"my_parent_key\": \"Hi, Joseph!\"}, subgraphs=True):\n",
    "    print(chunk)"
   ]
  }
 ],
 "metadata": {
  "kernelspec": {
   "display_name": "agent",
   "language": "python",
   "name": "python3"
  },
  "language_info": {
   "codemirror_mode": {
    "name": "ipython",
    "version": 3
   },
   "file_extension": ".py",
   "mimetype": "text/x-python",
   "name": "python",
   "nbconvert_exporter": "python",
   "pygments_lexer": "ipython3",
   "version": "3.11.10"
  }
 },
 "nbformat": 4,
 "nbformat_minor": 2
}
