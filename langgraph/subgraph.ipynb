{
 "cells": [
  {
   "cell_type": "markdown",
   "metadata": {},
   "source": [
    "# Subgraph Implementation"
   ]
  },
  {
   "cell_type": "markdown",
   "metadata": {},
   "source": [
    "## Define State"
   ]
  },
  {
   "cell_type": "code",
   "execution_count": 1,
   "metadata": {},
   "outputs": [],
   "source": [
    "from typing import Annotated, List\n",
    "from typing_extensions import TypedDict\n",
    "import operator\n",
    "\n",
    "from langchain_core.messages import AnyMessage, HumanMessage, AIMessage\n",
    "from langgraph.graph import StateGraph, START, END\n",
    "\n",
    "class SubGraphState(TypedDict):\n",
    "    messages: Annotated[List[AnyMessage], operator.add] # message history\n",
    "    context: str\n"
   ]
  },
  {
   "cell_type": "markdown",
   "metadata": {},
   "source": [
    "## Node Functions"
   ]
  },
  {
   "cell_type": "code",
   "execution_count": 2,
   "metadata": {},
   "outputs": [],
   "source": [
    "def process_node(state: SubGraphState):\n",
    "    current_message = state[\"messages\"][-1]\n",
    "    processed_result = f\"Processed: {current_message.content}\"\n",
    "    return {\"context\": processed_result}\n",
    "\n",
    "def respond_node(state: SubGraphState):\n",
    "    context = state[\"context\"]\n",
    "    response = AIMessage(content=f\"Response based on: {context}\")\n",
    "    return {\"messages\": [response]}"
   ]
  },
  {
   "cell_type": "markdown",
   "metadata": {},
   "source": [
    "## Construct Subgraph"
   ]
  },
  {
   "cell_type": "code",
   "execution_count": 3,
   "metadata": {},
   "outputs": [],
   "source": [
    "subgraph = StateGraph(SubGraphState)\n",
    "\n",
    "subgraph.add_node(\"process\", process_node)\n",
    "subgraph.add_node(\"respond\", respond_node)\n",
    "\n",
    "subgraph.add_edge(START, \"process\")\n",
    "subgraph.add_edge(\"process\", \"respond\")\n",
    "subgraph.add_edge(\"respond\", END)\n",
    "\n",
    "compiled_subgraph = subgraph.compile()\n"
   ]
  },
  {
   "cell_type": "markdown",
   "metadata": {},
   "source": [
    "## Visualize Subgraph"
   ]
  },
  {
   "cell_type": "code",
   "execution_count": 4,
   "metadata": {},
   "outputs": [
    {
     "data": {
      "image/png": "[encoded data removed]",
      "text/plain": [
       "<IPython.core.display.Image object>"
      ]
     },
     "metadata": {},
     "output_type": "display_data"
    }
   ],
   "source": [
    "from IPython.display import Image, display\n",
    "\n",
    "subgraph_image = compiled_subgraph.get_graph().draw_mermaid_png()\n",
    "display(Image(subgraph_image))\n"
   ]
  },
  {
   "cell_type": "markdown",
   "metadata": {},
   "source": [
    "## Run Subgraph"
   ]
  },
  {
   "cell_type": "code",
   "execution_count": 5,
   "metadata": {},
   "outputs": [
    {
     "name": "stdout",
     "output_type": "stream",
     "text": [
      "Message: Hello!\n",
      "Message: Response based on: Processed: Hello!\n"
     ]
    }
   ],
   "source": [
    "initial_state = {\n",
    "    \"messages\": [HumanMessage(content=\"Hello!\")],\n",
    "    \"context\": \"\"\n",
    "}\n",
    "\n",
    "result = compiled_subgraph.invoke(initial_state)\n",
    "\n",
    "for message in result[\"messages\"]:\n",
    "    print(f\"Message: {message.content}\")\n"
   ]
  },
  {
   "cell_type": "markdown",
   "metadata": {},
   "source": [
    "# Integrate into Main "
   ]
  },
  {
   "cell_type": "markdown",
   "metadata": {},
   "source": [
    "## Define State"
   ]
  },
  {
   "cell_type": "code",
   "execution_count": 6,
   "metadata": {},
   "outputs": [],
   "source": [
    "from typing import Annotated, Optional, TypedDict, Literal, List\n",
    "from langgraph.graph import StateGraph, START, END\n",
    "\n",
    "class MainState(TypedDict):\n",
    "    messages: Annotated[List[AnyMessage], operator.add]\n",
    "    context: str\n",
    "    subgraph_result: Optional[str]\n",
    "    processing_status: str\n"
   ]
  },
  {
   "cell_type": "markdown",
   "metadata": {},
   "source": [
    "## Node Functions"
   ]
  },
  {
   "cell_type": "code",
   "execution_count": 7,
   "metadata": {},
   "outputs": [],
   "source": [
    "def preprocessing(state: MainState): # -> MainState:\n",
    "    return {\n",
    "        \"context\": f\"Context from: {state['messages'][-1].content}\",\n",
    "        \"processing_status\": \"preprocessing_complete\"\n",
    "    }\n",
    "\n",
    "def postprocessing(state: MainState): # -> MainState:\n",
    "    context = state.get(\"context\", \"\")\n",
    "    return {\n",
    "        \"subgraph_result\": f\"Fianl result based in context: {context}\",\n",
    "        \"processing_status\": \"complete\"\n",
    "    }\n"
   ]
  },
  {
   "cell_type": "markdown",
   "metadata": {},
   "source": [
    "## Routing Logic"
   ]
  },
  {
   "cell_type": "code",
   "execution_count": 8,
   "metadata": {},
   "outputs": [],
   "source": [
    "def route_next(state: MainState) -> Literal[\"postprocessing\", \"reprocess\"]:\n",
    "    if state[\"processing_status\"] == \"preprocessing_complete\":\n",
    "        return \"postprocessing\"\n",
    "    return \"reprocess\"\n"
   ]
  },
  {
   "cell_type": "markdown",
   "metadata": {},
   "source": [
    "## Construct Graph"
   ]
  },
  {
   "cell_type": "code",
   "execution_count": 9,
   "metadata": {},
   "outputs": [],
   "source": [
    "main_graph = StateGraph(MainState)\n",
    "\n",
    "main_graph.add_node(\"preprocessing\", preprocessing)\n",
    "main_graph.add_node(\"subgraph\", subgraph.compile())\n",
    "main_graph.add_node(\"postprocessing\", postprocessing)\n",
    "\n",
    "main_graph.add_edge(START, \"preprocessing\")\n",
    "main_graph.add_edge(\"preprocessing\", \"subgraph\")\n",
    "main_graph.add_conditional_edges(\n",
    "    \"subgraph\",\n",
    "    route_next,\n",
    "    {\n",
    "        \"postprocessing\": \"postprocessing\",\n",
    "        \"reprocess\": \"preprocessing\"\n",
    "    }\n",
    ")\n",
    "main_graph.add_edge(\"postprocessing\", END)\n",
    "\n",
    "compiled_maingraph = main_graph.compile()\n"
   ]
  },
  {
   "cell_type": "markdown",
   "metadata": {},
   "source": [
    "## Visualize Subgraph"
   ]
  },
  {
   "cell_type": "code",
   "execution_count": 11,
   "metadata": {},
   "outputs": [
    {
     "data": {
      "image/png": "[encoded data removed]",
      "text/plain": [
       "<IPython.core.display.Image object>"
      ]
     },
     "metadata": {},
     "output_type": "display_data"
    }
   ],
   "source": [
    "from IPython.display import Image, display\n",
    "\n",
    "maingraph_image = compiled_maingraph.get_graph(xray=True).draw_mermaid_png()\n",
    "display(Image(maingraph_image))\n"
   ]
  },
  {
   "cell_type": "markdown",
   "metadata": {},
   "source": [
    "## Run Subgraph"
   ]
  },
  {
   "cell_type": "code",
   "execution_count": 12,
   "metadata": {},
   "outputs": [
    {
     "name": "stdout",
     "output_type": "stream",
     "text": [
      "실행 결과:\n",
      "처리 상태: complete\n",
      "최종 결과: Fianl result based in context: Processed: Hello!\n"
     ]
    }
   ],
   "source": [
    "initial_state = {\n",
    "    \"messages\": [HumanMessage(content=\"Hello!\")],\n",
    "    \"processing_status\": \"started\"\n",
    "}\n",
    "\n",
    "try:\n",
    "   result = compiled_maingraph.invoke(initial_state)\n",
    "   print(\"실행 결과:\")\n",
    "   print(f\"처리 상태: {result['processing_status']}\")\n",
    "   print(f\"최종 결과: {result['subgraph_result']}\")\n",
    "except Exception as e:\n",
    "   print(f\"그래프 실행 실패: {e}\")\n"
   ]
  },
  {
   "cell_type": "code",
   "execution_count": null,
   "metadata": {},
   "outputs": [],
   "source": []
  }
 ],
 "metadata": {
  "kernelspec": {
   "display_name": "agent",
   "language": "python",
   "name": "python3"
  },
  "language_info": {
   "codemirror_mode": {
    "name": "ipython",
    "version": 3
   },
   "file_extension": ".py",
   "mimetype": "text/x-python",
   "name": "python",
   "nbconvert_exporter": "python",
   "pygments_lexer": "ipython3",
   "version": "3.11.10"
  }
 },
 "nbformat": 4,
 "nbformat_minor": 2
}
