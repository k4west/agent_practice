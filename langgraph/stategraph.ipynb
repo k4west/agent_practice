{
 "cells": [
  {
   "cell_type": "markdown",
   "metadata": {},
   "source": [
    "## StateGraph\n"
   ]
  },
  {
   "cell_type": "markdown",
   "metadata": {},
   "source": [
    "요소 | 정의 | 역할\n",
    "---|---|---\n",
    "State | 현재 상태; 공유 데이터 구조 | 전체 워크 플로우의 컨텍스트 유지; 노드간 정보 공유; TypedDict 또는 Pydantic BaseModel로 정의\n",
    "Node | Python 함수 | 특정 로직 수행; 상태 업데이트\n",
    "Edges | 노드 간의 연결 | 워크플로우의 흐름 제어; 조건부 라우팅 가능; 다음에 실행할 노드 결정 "
   ]
  },
  {
   "cell_type": "code",
   "execution_count": 1,
   "metadata": {},
   "outputs": [
    {
     "name": "stdout",
     "output_type": "stream",
     "text": [
      "{'counter': 1}\n"
     ]
    }
   ],
   "source": [
    "from langgraph.graph import StateGraph, START, END\n",
    "from typing import TypedDict\n",
    "\n",
    "# 그래프의 상태를 정의하는 클래스\n",
    "class MyState(TypedDict):\n",
    "    counter: int\n",
    "\n",
    "# StateGraph 인스턴스 생성\n",
    "graph = StateGraph(MyState)\n",
    "\n",
    "# 카운터를 증가시키는 노드 함수 정의\n",
    "def increment(state):\n",
    "    return {\"counter\": state[\"counter\"] + 1}\n",
    "\n",
    "# 'increment' 노드 추가\n",
    "graph.add_node(\"increment\", increment)\n",
    "\n",
    "# START에서 'increment' 노드로 엣지 추가\n",
    "graph.add_edge(START, \"increment\")\n",
    "\n",
    "# 'increment' 노드에서 END로 엣지 추가\n",
    "graph.add_edge(\"increment\", END)\n",
    "\n",
    "# 그래프 컴파일\n",
    "app = graph.compile()\n",
    "\n",
    "# 그래프 실행\n",
    "result = app.invoke({\"counter\": 0})\n",
    "print(result)  \n"
   ]
  }
 ],
 "metadata": {
  "kernelspec": {
   "display_name": "agent",
   "language": "python",
   "name": "python3"
  },
  "language_info": {
   "codemirror_mode": {
    "name": "ipython",
    "version": 3
   },
   "file_extension": ".py",
   "mimetype": "text/x-python",
   "name": "python",
   "nbconvert_exporter": "python",
   "pygments_lexer": "ipython3",
   "version": "3.11.10"
  }
 },
 "nbformat": 4,
 "nbformat_minor": 2
}
