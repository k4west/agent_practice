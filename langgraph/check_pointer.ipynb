{
 "cells": [
  {
   "cell_type": "markdown",
   "metadata": {},
   "source": [
    "# MemorySavor 사용 예시"
   ]
  },
  {
   "cell_type": "code",
   "execution_count": 3,
   "metadata": {},
   "outputs": [
    {
     "data": {
      "image/png": "[encoded data removed]",
      "text/plain": [
       "<IPython.core.display.Image object>"
      ]
     },
     "metadata": {},
     "output_type": "display_data"
    },
    {
     "name": "stdout",
     "output_type": "stream",
     "text": [
      "{'messages': [{'role': 'user', 'content': 'Hello'}, {'role': 'user', 'content': 'hello'}, {'role': 'assistant', 'content': 'Hello! How can I assist you today?'}, {'role': 'user', 'content': 'how are you?'}, {'role': 'assistant', 'content': \"I'm just a program, but I'm here and ready to help! How can I assist you today?\"}, {'role': 'user', 'content': 'bye'}, {'role': 'assistant', 'content': 'Goodbye! If you need anything in the future, feel free to reach out. Have a great day!'}, {'role': 'user', 'content': 'q'}], 'context': '', 'usage': {'input': 60, 'output': 54}}\n"
     ]
    }
   ],
   "source": [
    "from dotenv import load_dotenv\n",
    "from typing import TypedDict\n",
    "from langchain_openai.chat_models import ChatOpenAI\n",
    "from langchain_core.prompts import ChatPromptTemplate\n",
    "from langgraph.checkpoint.memory import MemorySaver\n",
    "from langgraph.graph import StateGraph, START, END\n",
    "\n",
    "\n",
    "class State(TypedDict):\n",
    "    messages: list\n",
    "    context: str\n",
    "    usage: dict\n",
    "\n",
    "load_dotenv()\n",
    "llm = ChatOpenAI(model=\"gpt-4o-mini\")\n",
    "prompt = ChatPromptTemplate.from_messages(\n",
    "    [\n",
    "        (\n",
    "            \"system\",\n",
    "            \"You are a friendly chatbot assistant.\",\n",
    "        ),\n",
    "        (\"human\", \"{query}\"),\n",
    "    ]\n",
    ")\n",
    "chain = prompt | llm\n",
    "\n",
    "def user_input():\n",
    "    query = input(\"user: \")\n",
    "    return {\"role\": \"user\", \"content\": query}\n",
    "\n",
    "def chatbot(query: str):\n",
    "    result = chain.invoke({\"query\": query})\n",
    "    usage = result.usage_metadata\n",
    "    itokens = usage['input_tokens']\n",
    "    otokens = usage['output_tokens']\n",
    "    content = result.content\n",
    "    return {\"content\": content, \"usage\": {\"input\": itokens, \"output\": otokens}}\n",
    "\n",
    "def get_input(state: State):\n",
    "    query = user_input()\n",
    "    state[\"messages\"] = [query]\n",
    "    return state\n",
    "\n",
    "def get_response(state: State):\n",
    "    query = state[\"messages\"][0][\"content\"]\n",
    "    response = chatbot(query)\n",
    "    print(response[\"content\"])\n",
    "    state[\"messages\"].append({\"role\": \"assistant\", \"content\": response[\"content\"]})\n",
    "    state[\"usage\"][\"input\"] += response[\"usage\"][\"input\"]\n",
    "    state[\"usage\"][\"output\"] += response[\"usage\"][\"output\"]\n",
    "    return state\n",
    "\n",
    "def check_input(state: State):\n",
    "    query = state[\"messages\"][0][\"content\"]\n",
    "    if query == 'q':\n",
    "        return \"quit\"\n",
    "    else:\n",
    "        return \"continue\"\n",
    "\n",
    "memory = MemorySaver() # 대용량 데이터 처리시 메모리 사용량 관리에 주의가 필요함 / 휘발성 -> 중요 데이터는 별도로 백업해야함\n",
    "workflow = StateGraph(State)\n",
    "workflow.add_node(\"get_input\", get_input)\n",
    "workflow.add_node(\"get_response\", get_response)\n",
    "\n",
    "workflow.add_edge(START, \"get_input\")\n",
    "workflow.add_edge(\"get_response\", \"get_input\")\n",
    "\n",
    "workflow.add_conditional_edges(\n",
    "    \"get_input\",\n",
    "    check_input,\n",
    "    {\n",
    "        \"continue\" : \"get_response\",\n",
    "        \"quit\": END\n",
    "    }\n",
    ")\n",
    "\n",
    "graph = workflow.compile(checkpointer=memory)\n",
    "\n",
    "from IPython.display import Image, display\n",
    "\n",
    "try:\n",
    "    display(Image(graph.get_graph(xray=True).draw_mermaid_png()))\n",
    "except Exception:\n",
    "    # This requires some extra dependencies and is optional\n",
    "    pass\n",
    "\n",
    "config = {\"configurable\": {\"thread_id\": \"user_123\"}}\n",
    "input_data = {\n",
    "    \"messages\": [],\n",
    "    # [{\n",
    "    #     \"role\": \"user\",\n",
    "    #     \"content\": \"Hello\"\n",
    "    # }],\n",
    "    \"context\": \"\",\n",
    "    \"usage\": {\n",
    "        \"input\": 0,\n",
    "        \"output\": 0\n",
    "    }\n",
    "}\n",
    "result = graph.invoke(input_data, config=config)\n",
    "\n",
    "state = graph.get_state(config)\n",
    "print(state.values)"
   ]
  },
  {
   "cell_type": "code",
   "execution_count": 4,
   "metadata": {},
   "outputs": [
    {
     "name": "stdout",
     "output_type": "stream",
     "text": [
      "Checkpoint ID: 1efd3ab0-2d35-69e4-8007-9a041499b37e\n",
      "State: {'messages': [{'role': 'user', 'content': 'Hello'}, {'role': 'user', 'content': 'hello'}, {'role': 'assistant', 'content': 'Hello! How can I assist you today?'}, {'role': 'user', 'content': 'how are you?'}, {'role': 'assistant', 'content': \"I'm just a program, but I'm here and ready to help! How can I assist you today?\"}, {'role': 'user', 'content': 'bye'}, {'role': 'assistant', 'content': 'Goodbye! If you need anything in the future, feel free to reach out. Have a great day!'}, {'role': 'user', 'content': 'q'}], 'context': '', 'usage': {'input': 60, 'output': 54}}\n",
      "Checkpoint ID: 1efd3ab0-1e3f-6dd3-8006-7046e27c4921\n",
      "State: {'messages': [{'role': 'user', 'content': 'Hello'}, {'role': 'user', 'content': 'hello'}, {'role': 'assistant', 'content': 'Hello! How can I assist you today?'}, {'role': 'user', 'content': 'how are you?'}, {'role': 'assistant', 'content': \"I'm just a program, but I'm here and ready to help! How can I assist you today?\"}, {'role': 'user', 'content': 'bye'}, {'role': 'assistant', 'content': 'Goodbye! If you need anything in the future, feel free to reach out. Have a great day!'}], 'context': '', 'usage': {'input': 60, 'output': 54}}\n",
      "Checkpoint ID: 1efd3ab0-16a8-6203-8005-f62efe0bd757\n",
      "State: {'messages': [{'role': 'user', 'content': 'Hello'}, {'role': 'user', 'content': 'hello'}, {'role': 'assistant', 'content': 'Hello! How can I assist you today?'}, {'role': 'user', 'content': 'how are you?'}, {'role': 'assistant', 'content': \"I'm just a program, but I'm here and ready to help! How can I assist you today?\"}, {'role': 'user', 'content': 'bye'}], 'context': '', 'usage': {'input': 41, 'output': 31}}\n",
      "Checkpoint ID: 1efd3aaf-ecfa-686e-8004-77663fdcb612\n",
      "State: {'messages': [{'role': 'user', 'content': 'Hello'}, {'role': 'user', 'content': 'hello'}, {'role': 'assistant', 'content': 'Hello! How can I assist you today?'}, {'role': 'user', 'content': 'how are you?'}, {'role': 'assistant', 'content': \"I'm just a program, but I'm here and ready to help! How can I assist you today?\"}], 'context': '', 'usage': {'input': 41, 'output': 31}}\n",
      "Checkpoint ID: 1efd3aaf-e34a-6925-8003-066c003faa7a\n",
      "State: {'messages': [{'role': 'user', 'content': 'Hello'}, {'role': 'user', 'content': 'hello'}, {'role': 'assistant', 'content': 'Hello! How can I assist you today?'}, {'role': 'user', 'content': 'how are you?'}], 'context': '', 'usage': {'input': 19, 'output': 10}}\n",
      "Checkpoint ID: 1efd3aaf-981b-6786-8002-62603ee69525\n",
      "State: {'messages': [{'role': 'user', 'content': 'Hello'}, {'role': 'user', 'content': 'hello'}, {'role': 'assistant', 'content': 'Hello! How can I assist you today?'}], 'context': '', 'usage': {'input': 19, 'output': 10}}\n",
      "Checkpoint ID: 1efd3aaf-9407-672a-8001-25a260cfcf81\n",
      "State: {'messages': [{'role': 'user', 'content': 'Hello'}, {'role': 'user', 'content': 'hello'}], 'context': '', 'usage': {'input': 0, 'output': 0}}\n",
      "Checkpoint ID: 1efd3aaf-6d89-6648-8000-6d990425134d\n",
      "State: {'messages': [{'role': 'user', 'content': 'Hello'}], 'context': '', 'usage': {'input': 0, 'output': 0}}\n",
      "Checkpoint ID: 1efd3aaf-6d84-6825-bfff-6d63c7e329d6\n",
      "State: {}\n"
     ]
    }
   ],
   "source": [
    "history = list(graph.get_state_history(config))\n",
    "for checkpoint in history:\n",
    "    print(f\"Checkpoint ID: {checkpoint.config['configurable']['checkpoint_id']}\")\n",
    "    print(f\"State: {checkpoint.values}\")"
   ]
  }
 ],
 "metadata": {
  "kernelspec": {
   "display_name": "agent",
   "language": "python",
   "name": "python3"
  },
  "language_info": {
   "codemirror_mode": {
    "name": "ipython",
    "version": 3
   },
   "file_extension": ".py",
   "mimetype": "text/x-python",
   "name": "python",
   "nbconvert_exporter": "python",
   "pygments_lexer": "ipython3",
   "version": "3.11.10"
  }
 },
 "nbformat": 4,
 "nbformat_minor": 2
}
