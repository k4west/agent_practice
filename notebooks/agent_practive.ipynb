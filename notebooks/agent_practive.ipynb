{
 "cells": [
  {
   "cell_type": "markdown",
   "metadata": {},
   "source": [
    "출처: https://wikidocs.net/262586"
   ]
  },
  {
   "cell_type": "markdown",
   "metadata": {},
   "source": [
    "## 도구 호출 에이전트(Tool Calling Agent)"
   ]
  },
  {
   "cell_type": "code",
   "execution_count": 1,
   "metadata": {},
   "outputs": [],
   "source": [
    "from dotenv import load_dotenv\n",
    "# from langchain_teddynote import logging\n",
    "from langsmith import traceable\n",
    "import os\n",
    "\n",
    "load_dotenv()\n",
    "# logging.langsmith(\"agents\")\n",
    "os.environ[\"LANGCHAIN_PROJECT\"] = \"agents\"\n"
   ]
  },
  {
   "cell_type": "markdown",
   "metadata": {},
   "source": [
    "```python\n",
    "# You can set the project name for a specific tracer instance:\n",
    "from langchain.callbacks.tracers import LangChainTracer\n",
    "\n",
    "tracer = LangChainTracer(project_name=\"My Project\")\n",
    "chain.invoke({\"query\": \"How many people live in canada as of 2023?\"}, config={\"callbacks\": [tracer]})\n",
    "\n",
    "\n",
    "# LangChain python also supports a context manager for tracing a specific block of code.\n",
    "# You can set the project name using the project_name parameter.\n",
    "from langchain_core.tracers.context import tracing_v2_enabled\n",
    "with tracing_v2_enabled(project_name=\"My Project\"):\n",
    "    chain.invoke({\"query\": \"How many people live in canada as of 2023?\"})\n",
    "\n",
    "from langchain_openai import ChatOpenAI\n",
    "from langchain_core.prompts import ChatPromptTemplate\n",
    "from langchain_core.output_parsers import StrOutputParser\n",
    "\n",
    "prompt = ChatPromptTemplate.from_messages([\n",
    "(\"system\", \"You are a helpful AI.\"),\n",
    "(\"user\", \"{input}\")\n",
    "])\n",
    "chat_model = ChatOpenAI()\n",
    "output_parser = StrOutputParser()\n",
    "\n",
    "# Tags and metadata can be configured with RunnableConfig\n",
    "chain = (prompt | chat_model | output_parser).with_config({\"tags\": [\"top-level-tag\"], \"metadata\": {\"top-level-key\": \"top-level-value\"}})\n",
    "\n",
    "# Tags and metadata can also be passed at runtime\n",
    "chain.invoke({\"input\": \"What is the meaning of life?\"}, {\"tags\": [\"shared-tags\"], \"metadata\": {\"shared-key\": \"shared-value\"}})\n",
    "```"
   ]
  },
  {
   "cell_type": "code",
   "execution_count": null,
   "metadata": {},
   "outputs": [],
   "source": [
    "# from dotenv import load_dotenv\n",
    "\n",
    "import requests\n",
    "from lxml import html\n",
    "from langchain.tools import tool\n",
    "\n",
    "# load_dotenv()\n",
    "\n",
    "def get_context(link):\n",
    "    response = requests.get(link)\n",
    "    response.content\n",
    "    return ''\n",
    "\n",
    "@tool\n",
    "def query_news(query):\n",
    "    \"\"\"\n",
    "    Search Naver News by input keyword\n",
    "    \"\"\"\n",
    "    params = {\n",
    "        'where': 'news',\n",
    "        'ie': 'utf8',\n",
    "        'sm': 'nws_hty',\n",
    "        'query': query,\n",
    "    }\n",
    "    response = requests.get('https://search.naver.com/search.naver', params=params)\n",
    "    if response.status_code != 200:\n",
    "        print(response)\n",
    "        return {}, {}\n",
    "    news = {} # 번호: [{링크, 제목}, ...]\n",
    "    press_info = {} # 언론사: 번호\n",
    "    sections = html.fromstring(response.content).xpath('//*[@id=\"main_pack\"]/section//*[contains(@class, \"news_area\")]')\n",
    "    for section in sections:\n",
    "        items = section.xpath(\"div\")\n",
    "        info = items[0].xpath('div[2]/a')\n",
    "        press_name = info[0].text_content().strip()\n",
    "        link = [i.attrib.get('href', '') for i in info if 'naver' in i.attrib.get('href', '')]\n",
    "        if link:\n",
    "            link = link[0]\n",
    "        else:\n",
    "            link = 'article/'\n",
    "        press_num = link.split('article/')[1][:3]\n",
    "        title = [i.attrib.get('title', '') for i in items[1].xpath('a') if i.attrib.get('title', '')][0]\n",
    "        if press_name not in press_info:\n",
    "            press_info[press_name] = press_num\n",
    "            news[press_num or press_name] = []\n",
    "        # news[press_num or press_name].append({\"link\": link, \"title\": title})\n",
    "        context = get_context(link) if 'naver' in link else items[1].xpath('div')[0].text_content()\n",
    "        news[press_num or press_name].append({\"link\": link, \"title\": title, \"context\": context})\n",
    "    # return news, press_info\n",
    "    return sum([[{'url': j['link'], 'content': j['title']} for j in i] for i in news.values()], [])\n"
   ]
  },
  {
   "cell_type": "code",
   "execution_count": null,
   "metadata": {},
   "outputs": [],
   "source": [
    "import requests\n",
    "from lxml import html\n",
    "from langchain.tools import tool\n",
    "\n",
    "@tool\n",
    "def search_news(query):\n",
    "    \"\"\"\n",
    "    Search Naver News by input keyword\n",
    "    \"\"\"\n",
    "    params = {\n",
    "        'where': 'news',\n",
    "        'ie': 'utf8',\n",
    "        'sm': 'nws_hty',\n",
    "        'query': query,\n",
    "    }\n",
    "    response = requests.get('https://search.naver.com/search.naver', params=params)\n",
    "    if response.status_code != 200:\n",
    "        print(response)\n",
    "        return {}, {}\n",
    "    news = {} # 번호: [{링크, 제목}, ...]\n",
    "    press_info = {} # 언론사: 번호\n",
    "    sections = html.fromstring(response.content).xpath('//*[@id=\"main_pack\"]/section//*[contains(@class, \"news_area\")]')\n",
    "    for section in sections:\n",
    "        items = section.xpath(\"div\")\n",
    "        info = items[0].xpath('div[2]/a')\n",
    "        press_name = info[0].text_content().strip()\n",
    "        link = [i.attrib.get('href', '') for i in info if 'naver' in i.attrib.get('href', '')]\n",
    "        if link:\n",
    "            link = link[0]\n",
    "        else:\n",
    "            link = 'article/'\n",
    "        press_num = link.split('article/')[1][:3]\n",
    "        title = [i.attrib.get('title', '') for i in items[1].xpath('a') if i.attrib.get('title', '')][0]\n",
    "        if press_name not in press_info:\n",
    "            press_info[press_name] = press_num\n",
    "            news[press_num or press_name] = []\n",
    "        news[press_num or press_name].append({\"link\": link, \"content\": title})\n",
    "    # return news, press_info\n",
    "    result = sum(news, [])\n",
    "    return result"
   ]
  },
  {
   "cell_type": "code",
   "execution_count": null,
   "metadata": {},
   "outputs": [
    {
     "name": "stdout",
     "output_type": "stream",
     "text": [
      "도구 이름: query_news\n",
      "도구 설명: query news\n",
      "[{\"url\": \"...\", \"content\": \"...\"}]\n",
      "도구 이름: python_repl_tool\n",
      "도구 설명: Use this to execute python code. If you want to see the output of a value,\n",
      "    you should print it out with `print(...)`. This is visible to the user.\n"
     ]
    }
   ],
   "source": [
    "from langchain.tools import tool\n",
    "from typing import Annotated\n",
    "from langchain_experimental.utilities import PythonREPL\n",
    "\n",
    "\n",
    "# 도구 생성\n",
    "@tool\n",
    "def python_repl_tool(\n",
    "    code: Annotated[str, \"The python code to execute to generate your chart.\"],\n",
    "):\n",
    "    \"\"\"Use this to execute python code. If you want to see the output of a value,\n",
    "    you should print it out with `print(...)`. This is visible to the user.\"\"\"\n",
    "    result = \"\"\n",
    "    try:\n",
    "        result = PythonREPL().run(code)\n",
    "    except BaseException as e:\n",
    "        print(f\"Failed to execute. Error: {repr(e)}\")\n",
    "    finally:\n",
    "        return result\n",
    "\n",
    "\n",
    "print(f\"도구 이름: {query_news.name}\")\n",
    "print(f\"도구 설명: {query_news.description}\")\n",
    "print(f\"도구 이름: {python_repl_tool.name}\")\n",
    "print(f\"도구 설명: {python_repl_tool.description}\")\n",
    "\n",
    "# 도구 이름: search_news\n",
    "# 도구 설명: Search Google News by input keyword\n",
    "# 도구 이름: python_repl_tool\n",
    "# 도구 설명: Use this to execute python code. If you want to see the output of a value,\n",
    "#           you should print it out with `print(...)`. This is visible to the user."
   ]
  },
  {
   "cell_type": "code",
   "execution_count": null,
   "metadata": {},
   "outputs": [
    {
     "name": "stdout",
     "output_type": "stream",
     "text": [
      "도구 이름: search_news\n",
      "도구 설명: Search Google News by input keyword\n"
     ]
    }
   ],
   "source": [
    "from typing import List, Dict\n",
    "from langchain_teddynote.tools import GoogleNews\n",
    "\n",
    "# 도구 생성\n",
    "@tool\n",
    "def search_news(query: str) -> List[Dict[str, str]]:\n",
    "    \"\"\"Search Google News by input keyword\"\"\"\n",
    "    news_tool = GoogleNews()\n",
    "    return news_tool.search_by_keyword(query, k=5)\n",
    "\n",
    "print(f\"도구 이름: {search_news.name}\")\n",
    "print(f\"도구 설명: {search_news.description}\")"
   ]
  },
  {
   "cell_type": "code",
   "execution_count": 5,
   "metadata": {},
   "outputs": [],
   "source": [
    "# tools 정의\n",
    "tools = [query_news, python_repl_tool]"
   ]
  },
  {
   "cell_type": "markdown",
   "metadata": {},
   "source": [
    "- chat_history : 이전 대화 내용을 저장하는 변수 (멀티턴을 지원하지 않는다면, 생략 가능합니다.)\n",
    "- agent_scratchpad : 에이전트가 임시로 저장하는 변수\n",
    "- input : 사용자의 입력"
   ]
  },
  {
   "cell_type": "code",
   "execution_count": 6,
   "metadata": {},
   "outputs": [],
   "source": [
    "from langchain_openai import ChatOpenAI\n",
    "from langchain.agents import create_tool_calling_agent\n",
    "from langchain_core.prompts import ChatPromptTemplate\n",
    "\n",
    "# 프롬프트 생성\n",
    "# 프롬프트는 에이전트에게 모델이 수행할 작업을 설명하는 텍스트를 제공합니다. (도구의 이름과 역할을 입력)\n",
    "prompt = ChatPromptTemplate.from_messages(\n",
    "    [\n",
    "        (\n",
    "            \"system\",\n",
    "            \"You are a helpful assistant. \"\n",
    "            \"Make sure to use the `query_news` tool for searching keyword related news.\",\n",
    "        ),\n",
    "        (\"placeholder\", \"{chat_history}\"),\n",
    "        (\"human\", \"{input}\"),\n",
    "        (\"placeholder\", \"{agent_scratchpad}\"),\n",
    "    ]\n",
    ")\n",
    "\n",
    "\n",
    "# LLM 정의\n",
    "llm = ChatOpenAI(model=\"gpt-4o-mini\", temperature=0)\n",
    "\n",
    "# Agent 생성\n",
    "agent = (create_tool_calling_agent(llm, tools, prompt))\n"
   ]
  },
  {
   "cell_type": "markdown",
   "metadata": {},
   "source": [
    "## AgentExecutor"
   ]
  },
  {
   "cell_type": "markdown",
   "metadata": {},
   "source": [
    "AgentExecutor는 도구를 사용하는 에이전트를 실행하는 클래스입니다.\n",
    "\n",
    "주요 속성\n",
    "- agent: 실행 루프의 각 단계에서 계획을 생성하고 행동을 결정하는 에이전트\n",
    "- tools: 에이전트가 사용할 수 있는 유효한 도구 목록\n",
    "- return_intermediate_steps: 최종 출력과 함께 에이전트의 중간 단계 경로를 반환할지 여부\n",
    "- max_iterations: 실행 루프를 종료하기 전 최대 단계 수\n",
    "- max_execution_time: 실행 루프에 소요될 수 있는 최대 시간\n",
    "- early_stopping_method: 에이전트가 AgentFinish를 반환하지 않을 때 사용할 조기 종료 방법. (\"force\" or \"generate\")\n",
    "- \"force\" 는 시간 또는 반복 제한에 도달하여 중지되었다는 문자열을 반환합니다.\n",
    "- \"generate\" 는 에이전트의 LLM 체인을 마지막으로 한 번 호출하여 이전 단계에 따라 최종 답변을 생성합니다.\n",
    "- handle_parsing_errors: 에이전트의 출력 파서에서 발생한 오류 처리 방법. (True, False, 또는 오류 처리 함수)\n",
    "- trim_intermediate_steps: 중간 단계를 트리밍하는 방법. (-1 trim 하지 않음, 또는 트리밍 함수)\n",
    "\n",
    "주요 메서드\n",
    "- invoke: 에이전트 실행\n",
    "- stream: 최종 출력에 도달하는 데 필요한 단계를 스트리밍\n",
    "\n",
    "주요 기능\n",
    "- 도구 검증: 에이전트와 호환되는 도구인지 확인\n",
    "- 실행 제어: 최대 반복 횟수 및 실행 시간 제한 설정 가능\n",
    "- 오류 처리: 출력 파싱 오류에 대한 다양한 처리 옵션 제공\n",
    "- 중간 단계 관리: 중간 단계 트리밍 및 반환 옵션\n",
    "- 비동기 지원: 비동기 실행 및 스트리밍 지원\n",
    "\n",
    "최적화 팁\n",
    "- max_iterations와 max_execution_time을 적절히 설정하여 실행 시간 관리\n",
    "- trim_intermediate_steps를 활용하여 메모리 사용량 최적화\n",
    "- 복잡한 작업의 경우 stream 메서드를 사용하여 단계별 결과 모니터링"
   ]
  },
  {
   "cell_type": "code",
   "execution_count": null,
   "metadata": {},
   "outputs": [],
   "source": [
    "from langchain.agents import AgentExecutor\n",
    "\n",
    "# AgentExecutor 생성\n",
    "agent_executor = AgentExecutor(\n",
    "    agent=agent,\n",
    "    tools=tools,\n",
    "    verbose=True,\n",
    "    max_iterations=10,\n",
    "    max_execution_time=10,\n",
    "    handle_parsing_errors=True,\n",
    ")\n",
    "\n",
    "@traceable\n",
    "def run_agent_executor(query):\n",
    "    return agent_executor.invoke({\"input\": query})\n",
    "\n",
    "query = \"AI 투자와 관련된 뉴스를 검색해 주세요.\"\n",
    "result = run_agent_executor(query)\n",
    "print(\"Agent 실행 결과:\")\n",
    "print(result[\"output\"])\n"
   ]
  },
  {
   "cell_type": "code",
   "execution_count": null,
   "metadata": {},
   "outputs": [
    {
     "name": "stderr",
     "output_type": "stream",
     "text": [
      "Failed to use model_dump to serialize <class 'langchain_core.runnables.base.RunnableSequence'> to JSON: PydanticSerializationError(Unable to serialize unknown type: <class 'langchain_core.runnables.base.RunnableLambda'>)\n",
      "Failed to use model_dump to serialize <class 'langchain_core.tools.structured.StructuredTool'> to JSON: PydanticSerializationError(Unable to serialize unknown type: <class 'pydantic._internal._model_construction.ModelMetaclass'>)\n",
      "Failed to use model_dump to serialize <class 'langchain_core.tools.structured.StructuredTool'> to JSON: PydanticSerializationError(Unable to serialize unknown type: <class 'pydantic._internal._model_construction.ModelMetaclass'>)\n"
     ]
    },
    {
     "name": "stdout",
     "output_type": "stream",
     "text": [
      "\n",
      "\n",
      "\u001b[1m> Entering new AgentExecutor chain...\u001b[0m\n",
      "\u001b[32;1m\u001b[1;3m\n",
      "Invoking: `query_news` with `{'query': 'AI 투자'}`\n",
      "\n",
      "\n",
      "\u001b[0m\u001b[36;1m\u001b[1;3m[{'url': 'https://n.news.naver.com/mnews/article/003/0012948733?sid=104', 'content': '한화 금융 3사, \\'AI 메카\\' 美샌프란 전초기지 출범…\"투자기회 창출\"'}, {'url': 'https://n.news.naver.com/mnews/article/421/0007955820?sid=101', 'content': \"금융권, 생성형 AI 활용 'AI 은행원' 서비스 선보인다\"}, {'url': 'https://n.news.naver.com/mnews/article/014/0005279310?sid=101', 'content': '한화 금융 3사, 미국 샌프란시스코 AI 센터 개소'}, {'url': 'https://n.news.naver.com/mnews/article/277/0005513690?sid=101', 'content': '한화 금융 3사, 美 샌프란시스코 AI 센터 개소'}, {'url': 'https://n.news.naver.com/mnews/article/243/0000069291?sid=101', 'content': '“생성형 AI가 대출 상담도 뚝딱” 우리은행, 금융권 첫 사례'}, {'url': 'https://n.news.naver.com/mnews/article/092/0002355685?sid=105', 'content': '에이베러, 캡스톤파트너스서 10억 투자 유치'}, {'url': 'https://n.news.naver.com/mnews/article/021/0002676838?sid=101', 'content': 'MS “내년은 AI가 일상·업무 필수 될 것”'}, {'url': 'https://n.news.naver.com/mnews/article/009/0005410374?sid=101', 'content': '한국투자증권, 로보어드바이저 랩 추천 서비스 ‘MY AI’ 상품 라인업 확대'}, {'url': 'https://n.news.naver.com/mnews/article/366/0001038267?sid=104', 'content': '외신 \"美, MS 투자 협약 따라 AI 칩 UAE 수출 승인\"'}, {'url': 'https://n.news.naver.com/mnews/article/001/0015091694?sid=101', 'content': \"'리밸런싱' SK, 부채 줄고 이익 늘고…체질 개선해 미래투자 속도\"}]\u001b[0m\u001b[32;1m\u001b[1;3m다음은 AI 투자와 관련된 최근 뉴스입니다:\n",
      "\n",
      "1. [한화 금융 3사, 'AI 메카' 美샌프란 전초기지 출범…\\\"투자기회 창출\\\"](https://n.news.naver.com/mnews/article/003/0012948733?sid=104)\n",
      "2. [금융권, 생성형 AI 활용 'AI 은행원' 서비스 선보인다](https://n.news.naver.com/mnews/article/421/0007955820?sid=101)\n",
      "3. [한화 금융 3사, 미국 샌프란시스코 AI 센터 개소](https://n.news.naver.com/mnews/article/014/0005279310?sid=101)\n",
      "4. [한화 금융 3사, 美 샌프란시스코 AI 센터 개소](https://n.news.naver.com/mnews/article/277/0005513690?sid=101)\n",
      "5. [“생성형 AI가 대출 상담도 뚝딱” 우리은행, 금융권 첫 사례](https://n.news.naver.com/mnews/article/243/0000069291?sid=101)\n",
      "6. [에이베러, 캡스톤파트너스서 10억 투자 유치](https://n.news.naver.com/mnews/article/092/0002355685?sid=105)\n",
      "7. [MS “내년은 AI가 일상·업무 필수 될 것”](https://n.news.naver.com/mnews/article/021/0002676838?sid=101)\n",
      "8. [한국투자증권, 로보어드바이저 랩 추천 서비스 ‘MY AI’ 상품 라인업 확대](https://n.news.naver.com/mnews/article/009/0005410374?sid=101)\n",
      "9. [외신 \"美, MS 투자 협약 따라 AI 칩 UAE 수출 승인\"](https://n.news.naver.com/mnews/article/366/0001038267?sid=104)\n",
      "10. ['리밸런싱' SK, 부채 줄고 이익 늘고…체질 개선해 미래투자 속도](https://n.news.naver.com/mnews/article/001/0015091694?sid=101)\n",
      "\n",
      "이 뉴스들은 AI 투자와 관련된 다양한 주제를 다루고 있습니다.\u001b[0m\n",
      "\n",
      "\u001b[1m> Finished chain.\u001b[0m\n",
      "Agent 실행 결과:\n",
      "다음은 AI 투자와 관련된 최근 뉴스입니다:\n",
      "\n",
      "1. [한화 금융 3사, 'AI 메카' 美샌프란 전초기지 출범…\\\"투자기회 창출\\\"](https://n.news.naver.com/mnews/article/003/0012948733?sid=104)\n",
      "2. [금융권, 생성형 AI 활용 'AI 은행원' 서비스 선보인다](https://n.news.naver.com/mnews/article/421/0007955820?sid=101)\n",
      "3. [한화 금융 3사, 미국 샌프란시스코 AI 센터 개소](https://n.news.naver.com/mnews/article/014/0005279310?sid=101)\n",
      "4. [한화 금융 3사, 美 샌프란시스코 AI 센터 개소](https://n.news.naver.com/mnews/article/277/0005513690?sid=101)\n",
      "5. [“생성형 AI가 대출 상담도 뚝딱” 우리은행, 금융권 첫 사례](https://n.news.naver.com/mnews/article/243/0000069291?sid=101)\n",
      "6. [에이베러, 캡스톤파트너스서 10억 투자 유치](https://n.news.naver.com/mnews/article/092/0002355685?sid=105)\n",
      "7. [MS “내년은 AI가 일상·업무 필수 될 것”](https://n.news.naver.com/mnews/article/021/0002676838?sid=101)\n",
      "8. [한국투자증권, 로보어드바이저 랩 추천 서비스 ‘MY AI’ 상품 라인업 확대](https://n.news.naver.com/mnews/article/009/0005410374?sid=101)\n",
      "9. [외신 \"美, MS 투자 협약 따라 AI 칩 UAE 수출 승인\"](https://n.news.naver.com/mnews/article/366/0001038267?sid=104)\n",
      "10. ['리밸런싱' SK, 부채 줄고 이익 늘고…체질 개선해 미래투자 속도](https://n.news.naver.com/mnews/article/001/0015091694?sid=101)\n",
      "\n",
      "이 뉴스들은 AI 투자와 관련된 다양한 주제를 다루고 있습니다.\n"
     ]
    }
   ],
   "source": [
    "from langchain.agents import AgentExecutor\n",
    "\n",
    "def run_agent_executor(agent, tools, query):\n",
    "    # AgentExecutor 생성\n",
    "    agent_executor = AgentExecutor(\n",
    "        agent=agent,\n",
    "        tools=tools,\n",
    "        verbose=True,\n",
    "        max_iterations=10,\n",
    "        max_execution_time=10,\n",
    "        handle_parsing_errors=True,\n",
    "    )\n",
    "\n",
    "    # AgentExecutor 실행\n",
    "    result = agent_executor.invoke({\"input\": query})\n",
    "    return result\n",
    "\n",
    "query = \"AI 투자와 관련된 뉴스를 검색해 주세요.\"\n",
    "result = run_agent_executor(agent, tools, query)\n",
    "print(\"Agent 실행 결과:\")\n",
    "print(result[\"output\"])\n"
   ]
  },
  {
   "cell_type": "markdown",
   "metadata": {},
   "source": [
    "## Stream 출력으로 단계별 결과 확인"
   ]
  },
  {
   "cell_type": "markdown",
   "metadata": {},
   "source": [
    "|출력\t|내용|\n",
    "|---------------|------------|\n",
    "|Action\t        |actions: AgentAction 또는 그 하위 클래스|\n",
    "|               |messages: 액션 호출에 해당하는 채팅 메시지|\n",
    "|Observation\t|steps: 현재 액션과 그 관찰을 포함한 에이전트가 지금까지 수행한 작업의 기록|\n",
    "|               |messages: 함수 호출 결과(즉, 관찰)를 포함한 채팅 메시지|\n",
    "|Final Answer\t|output: AgentFinish|\n",
    "|               |messages: 최종 출력을 포함한 채팅 메시지|"
   ]
  },
  {
   "cell_type": "code",
   "execution_count": null,
   "metadata": {},
   "outputs": [],
   "source": [
    "from langchain.agents import AgentExecutor\n",
    "\n",
    "# AgentExecutor 생성\n",
    "agent_executor = AgentExecutor(\n",
    "    agent=agent,\n",
    "    tools=tools,\n",
    "    verbose=False,\n",
    "    handle_parsing_errors=True,\n",
    ")\n",
    "\n",
    "# 스트리밍 모드 실행\n",
    "result = agent_executor.stream({\"input\": \"AI 투자와 관련된 뉴스를 검색해 주세요.\"}) \n",
    "\n",
    "for step in result:\n",
    "    # 중간 단계 출력\n",
    "    print(step)\n"
   ]
  },
  {
   "cell_type": "code",
   "execution_count": null,
   "metadata": {},
   "outputs": [],
   "source": []
  }
 ],
 "metadata": {
  "kernelspec": {
   "display_name": "agent",
   "language": "python",
   "name": "python3"
  },
  "language_info": {
   "codemirror_mode": {
    "name": "ipython",
    "version": 3
   },
   "file_extension": ".py",
   "mimetype": "text/x-python",
   "name": "python",
   "nbconvert_exporter": "python",
   "pygments_lexer": "ipython3",
   "version": "3.11.10"
  }
 },
 "nbformat": 4,
 "nbformat_minor": 2
}
